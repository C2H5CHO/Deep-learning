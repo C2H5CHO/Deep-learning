{
 "cells": [
  {
   "cell_type": "markdown",
   "metadata": {},
   "source": [
    "# 一、张量的简介"
   ]
  },
  {
   "cell_type": "markdown",
   "metadata": {},
   "source": [
    "## 1、Variable"
   ]
  },
  {
   "cell_type": "markdown",
   "metadata": {},
   "source": [
    "Variable是torch.autograd中的数据类型，主要用于封装Tensor，进行自动求导\n",
    "\n",
    "- `data`：被包装的Tensor\n",
    "- `grad`：data的梯度\n",
    "- `grad_fn`：创建Tensor的Function，是自动求导的关键\n",
    "- `requires_grad`：指示是否需要梯度\n",
    "- `is_leaf`：指示是否是叶子结点（张量）"
   ]
  },
  {
   "cell_type": "markdown",
   "metadata": {},
   "source": [
    "## 2、Tensor"
   ]
  },
  {
   "cell_type": "markdown",
   "metadata": {},
   "source": [
    "pytorch0.4.0版开始，Variable并入Tensor\n",
    "\n",
    "- `dtype`：张量的数据类型，如`torch.FloatTensor`，`torch.cuda.FloatTensor`\n",
    "- `shape`：张量的形状，如`(64, 3, 224, 224)`\n",
    "- `device`：张量所在设备，GPU/CPU，是加速关键"
   ]
  },
  {
   "cell_type": "markdown",
   "metadata": {},
   "source": [
    "# 二、张量的创建"
   ]
  },
  {
   "cell_type": "markdown",
   "metadata": {},
   "source": [
    "## 1、直接创建"
   ]
  },
  {
   "cell_type": "markdown",
   "metadata": {},
   "source": [
    "### 1.1 `torch.tensor()`"
   ]
  },
  {
   "cell_type": "markdown",
   "metadata": {},
   "source": [
    "功能：从data创建tensor\n",
    "\n",
    "- `data`：数据，可以是list，numpy\n",
    "- `dtype`：数据类型，默认与data一致\n",
    "- `device`：所在设备，cuda/cpu\n",
    "- `requires_grad`：是否需要梯度\n",
    "- `pin_memory`：是否存于锁页内存"
   ]
  },
  {
   "cell_type": "code",
   "execution_count": 29,
   "metadata": {},
   "outputs": [],
   "source": [
    "import numpy as np\n",
    "import torch"
   ]
  },
  {
   "cell_type": "code",
   "execution_count": 30,
   "metadata": {},
   "outputs": [
    {
     "name": "stdout",
     "output_type": "stream",
     "text": [
      "数据类型： float64\n",
      "tensor([[1., 1., 1.],\n",
      "        [1., 1., 1.],\n",
      "        [1., 1., 1.]], dtype=torch.float64)\n"
     ]
    }
   ],
   "source": [
    "flag = True\n",
    "if flag:\n",
    "    arr = np.ones((3, 3))\n",
    "    print(\"数据类型：\", arr.dtype)\n",
    "\n",
    "    t = torch.tensor(arr)\n",
    "    print(t)"
   ]
  },
  {
   "cell_type": "markdown",
   "metadata": {},
   "source": [
    "### 1.2 `torch.from_numpy(ndarray)`"
   ]
  },
  {
   "cell_type": "markdown",
   "metadata": {},
   "source": [
    "功能：从numpy创建tensor\n",
    "\n",
    "**注意事项**：\n",
    "1. 从torch.from_numpy创建的tensor于原ndarray共享内存，当修改其中一个的数据，另一个也会被修改"
   ]
  },
  {
   "cell_type": "code",
   "execution_count": 31,
   "metadata": {},
   "outputs": [
    {
     "name": "stdout",
     "output_type": "stream",
     "text": [
      "array： [[1 2 3]\n",
      " [4 5 6]]\n",
      "tensor： tensor([[1, 2, 3],\n",
      "        [4, 5, 6]], dtype=torch.int32)\n",
      "----------------------------------------------------------------------------------------------------\n",
      "array： [[0 2 3]\n",
      " [4 5 6]]\n",
      "tensor： tensor([[0, 2, 3],\n",
      "        [4, 5, 6]], dtype=torch.int32)\n",
      "----------------------------------------------------------------------------------------------------\n",
      "array： [[-1  2  3]\n",
      " [ 4  5  6]]\n",
      "tensor： tensor([[-1,  2,  3],\n",
      "        [ 4,  5,  6]], dtype=torch.int32)\n"
     ]
    }
   ],
   "source": [
    "flag = True\n",
    "if flag:\n",
    "    arr1 = np.array([[1, 2, 3], [4, 5, 6]])\n",
    "    t = torch.from_numpy(arr1)\n",
    "    print(\"array：\", arr1)\n",
    "    print(\"tensor：\", t)\n",
    "\n",
    "    print('-'*100)\n",
    "\n",
    "    arr1[0, 0] = 0\n",
    "    print(\"array：\", arr1)\n",
    "    print(\"tensor：\", t)\n",
    "\n",
    "    print('-'*100)\n",
    "\n",
    "    t[0, 0] = -1\n",
    "    print(\"array：\", arr1)\n",
    "    print(\"tensor：\", t)"
   ]
  },
  {
   "cell_type": "markdown",
   "metadata": {},
   "source": [
    "## 2、依据数值创建"
   ]
  },
  {
   "cell_type": "markdown",
   "metadata": {},
   "source": [
    "### 2.1 `torch.zeros()`"
   ]
  },
  {
   "cell_type": "markdown",
   "metadata": {},
   "source": [
    "功能：依size创建全0张量\n",
    "\n",
    "- `size`：张量的形状，如(3, 3)，(3, 224, 224)\n",
    "- `out`：输出的张量\n",
    "- `layout`：内存中布局形式，有strided，sparse_coo等\n",
    "- `device`：所在设备，gpu/cpu\n",
    "- `requires_grad`：是否需要梯度"
   ]
  },
  {
   "cell_type": "code",
   "execution_count": 32,
   "metadata": {},
   "outputs": [
    {
     "name": "stdout",
     "output_type": "stream",
     "text": [
      "t： tensor([[0, 0, 0],\n",
      "        [0, 0, 0],\n",
      "        [0, 0, 0]])\n",
      "t2： tensor([[0, 0, 0],\n",
      "        [0, 0, 0],\n",
      "        [0, 0, 0]])\n",
      "2002125950224 2002125950224 True\n"
     ]
    }
   ],
   "source": [
    "flag = True\n",
    "if flag:\n",
    "    t2 = torch.tensor([1])\n",
    "    t = torch.zeros((3, 3), out=t2)\n",
    "\n",
    "    print(\"t：\", t)\n",
    "    print(\"t2：\", t2)\n",
    "    print(id(t), id(t2), id(t) == id(t2))"
   ]
  }
 ],
 "metadata": {
  "kernelspec": {
   "display_name": "base",
   "language": "python",
   "name": "python3"
  },
  "language_info": {
   "codemirror_mode": {
    "name": "ipython",
    "version": 3
   },
   "file_extension": ".py",
   "mimetype": "text/x-python",
   "name": "python",
   "nbconvert_exporter": "python",
   "pygments_lexer": "ipython3",
   "version": "3.11.7"
  }
 },
 "nbformat": 4,
 "nbformat_minor": 2
}
