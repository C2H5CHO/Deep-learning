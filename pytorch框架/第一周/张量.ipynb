{
 "cells": [
  {
   "cell_type": "markdown",
   "metadata": {},
   "source": [
    "# 一、张量的简介"
   ]
  },
  {
   "cell_type": "markdown",
   "metadata": {},
   "source": [
    "## 1、Variable"
   ]
  },
  {
   "cell_type": "markdown",
   "metadata": {},
   "source": [
    "Variable是torch.autograd中的数据类型，主要用于封装Tensor，进行自动求导\n",
    "\n",
    "- `data`：被包装的Tensor\n",
    "- `grad`：data的梯度\n",
    "- `grad_fn`：创建Tensor的Function，是自动求导的关键\n",
    "- `requires_grad`：指示是否需要梯度\n",
    "- `is_leaf`：指示是否是叶子结点（张量）"
   ]
  },
  {
   "cell_type": "markdown",
   "metadata": {},
   "source": [
    "## 2、Tensor"
   ]
  },
  {
   "cell_type": "markdown",
   "metadata": {},
   "source": [
    "pytorch0.4.0版开始，Variable并入Tensor\n",
    "\n",
    "- `dtype`：张量的数据类型，如`torch.FloatTensor`，`torch.cuda.FloatTensor`\n",
    "- `shape`：张量的形状，如`(64, 3, 224, 224)`\n",
    "- `device`：张量所在设备，GPU/CPU，是加速关键"
   ]
  },
  {
   "cell_type": "markdown",
   "metadata": {},
   "source": [
    "# 二、张量的创建"
   ]
  },
  {
   "cell_type": "markdown",
   "metadata": {},
   "source": [
    "## 1、直接创建"
   ]
  },
  {
   "cell_type": "markdown",
   "metadata": {},
   "source": [
    "### 1.1 `torch.tensor()`"
   ]
  },
  {
   "cell_type": "code",
   "execution_count": 224,
   "metadata": {},
   "outputs": [],
   "source": [
    "# torch.tensor(\n",
    "#     data,\n",
    "#     dtype=None,\n",
    "#     device=None,\n",
    "#     requires_grad=False,\n",
    "#     pin_memory=False\n",
    "# )"
   ]
  },
  {
   "cell_type": "markdown",
   "metadata": {},
   "source": [
    "功能：从data创建tensor\n",
    "\n",
    "- `data`：数据，可以是list，numpy\n",
    "- `dtype`：数据类型，默认与data一致\n",
    "- `device`：所在设备，cuda/cpu\n",
    "- `requires_grad`：是否需要梯度\n",
    "- `pin_memory`：是否存于锁页内存"
   ]
  },
  {
   "cell_type": "code",
   "execution_count": 225,
   "metadata": {},
   "outputs": [],
   "source": [
    "import numpy as np\n",
    "import torch"
   ]
  },
  {
   "cell_type": "code",
   "execution_count": 226,
   "metadata": {},
   "outputs": [
    {
     "name": "stdout",
     "output_type": "stream",
     "text": [
      "数据类型： float64\n",
      "tensor([[1., 1., 1.],\n",
      "        [1., 1., 1.],\n",
      "        [1., 1., 1.]], dtype=torch.float64)\n"
     ]
    }
   ],
   "source": [
    "flag = True\n",
    "if flag:\n",
    "    arr = np.ones((3, 3))\n",
    "    print(\"数据类型：\", arr.dtype)\n",
    "\n",
    "    t = torch.tensor(arr)\n",
    "    print(t)"
   ]
  },
  {
   "cell_type": "markdown",
   "metadata": {},
   "source": [
    "### 1.2 `torch.from_numpy(ndarray)`"
   ]
  },
  {
   "cell_type": "markdown",
   "metadata": {},
   "source": [
    "功能：从numpy创建tensor\n",
    "\n",
    "**注意事项**：\n",
    "1. 从torch.from_numpy创建的tensor于原ndarray共享内存，当修改其中一个的数据，另一个也会被修改"
   ]
  },
  {
   "cell_type": "code",
   "execution_count": 227,
   "metadata": {},
   "outputs": [
    {
     "name": "stdout",
     "output_type": "stream",
     "text": [
      "array： [[1 2 3]\n",
      " [4 5 6]]\n",
      "tensor： tensor([[1, 2, 3],\n",
      "        [4, 5, 6]], dtype=torch.int32)\n",
      "----------------------------------------------------------------------------------------------------\n",
      "array： [[0 2 3]\n",
      " [4 5 6]]\n",
      "tensor： tensor([[0, 2, 3],\n",
      "        [4, 5, 6]], dtype=torch.int32)\n",
      "----------------------------------------------------------------------------------------------------\n",
      "array： [[-1  2  3]\n",
      " [ 4  5  6]]\n",
      "tensor： tensor([[-1,  2,  3],\n",
      "        [ 4,  5,  6]], dtype=torch.int32)\n"
     ]
    }
   ],
   "source": [
    "flag = True\n",
    "if flag:\n",
    "    arr1 = np.array([[1, 2, 3], [4, 5, 6]])\n",
    "    t = torch.from_numpy(arr1)\n",
    "    print(\"array：\", arr1)\n",
    "    print(\"tensor：\", t)\n",
    "\n",
    "    print('-'*100)\n",
    "\n",
    "    arr1[0, 0] = 0\n",
    "    print(\"array：\", arr1)\n",
    "    print(\"tensor：\", t)\n",
    "\n",
    "    print('-'*100)\n",
    "\n",
    "    t[0, 0] = -1\n",
    "    print(\"array：\", arr1)\n",
    "    print(\"tensor：\", t)"
   ]
  },
  {
   "cell_type": "markdown",
   "metadata": {},
   "source": [
    "## 2、依据数值创建"
   ]
  },
  {
   "cell_type": "markdown",
   "metadata": {},
   "source": [
    "### 2.1 `torch.zeros()`"
   ]
  },
  {
   "cell_type": "code",
   "execution_count": 228,
   "metadata": {},
   "outputs": [],
   "source": [
    "# torch.zeros(\n",
    "#     *size,\n",
    "#     out=None,\n",
    "#     dtype=None,\n",
    "#     layout=torch.strided,\n",
    "#     device=None,\n",
    "#     requires_grad=False\n",
    "# )"
   ]
  },
  {
   "cell_type": "markdown",
   "metadata": {},
   "source": [
    "功能：依size创建全0张量\n",
    "\n",
    "- `size`：张量的形状，如(3, 3)，(3, 224, 224)\n",
    "- `out`：输出的张量\n",
    "- `layout`：内存中布局形式，有strided，sparse_coo等\n",
    "- `device`：所在设备，gpu/cpu\n",
    "- `requires_grad`：是否需要梯度"
   ]
  },
  {
   "cell_type": "code",
   "execution_count": 229,
   "metadata": {},
   "outputs": [
    {
     "name": "stdout",
     "output_type": "stream",
     "text": [
      "t： tensor([[0, 0, 0],\n",
      "        [0, 0, 0],\n",
      "        [0, 0, 0]])\n",
      "t2： tensor([[0, 0, 0],\n",
      "        [0, 0, 0],\n",
      "        [0, 0, 0]])\n",
      "1266643551632 1266643551632 True\n"
     ]
    }
   ],
   "source": [
    "flag = True\n",
    "if flag:\n",
    "    t2 = torch.tensor([1])\n",
    "    t = torch.zeros((3, 3), out=t2)\n",
    "\n",
    "    print(\"t：\", t)\n",
    "    print(\"t2：\", t2)\n",
    "    print(id(t), id(t2), id(t) == id(t2))"
   ]
  },
  {
   "cell_type": "markdown",
   "metadata": {},
   "source": [
    "### 2.2 `torch.zeros_like()`"
   ]
  },
  {
   "cell_type": "code",
   "execution_count": 230,
   "metadata": {},
   "outputs": [],
   "source": [
    "# torch.zeros_like(\n",
    "#     input,\n",
    "#     dtype=None,\n",
    "#     layout=None,\n",
    "#     device=None,\n",
    "#     requires_grad=False\n",
    "# )"
   ]
  },
  {
   "cell_type": "markdown",
   "metadata": {},
   "source": [
    "功能：依input形状创建全0张量\n",
    "\n",
    "- `input`：创建与input同形状的全0张量\n",
    "- `dtype`：数据类型\n",
    "- `layout`：内存中布局形式"
   ]
  },
  {
   "cell_type": "markdown",
   "metadata": {},
   "source": [
    "### 2.3 `torch.ones()`"
   ]
  },
  {
   "cell_type": "code",
   "execution_count": 231,
   "metadata": {},
   "outputs": [],
   "source": [
    "# torch.ones(\n",
    "#     *size,\n",
    "#     out=None,\n",
    "#     dtype=None,\n",
    "#     layout=torch.strided,\n",
    "#     device=None,\n",
    "#     requires_grad=False\n",
    "# )"
   ]
  },
  {
   "cell_type": "markdown",
   "metadata": {},
   "source": [
    "### 2.4 `torch.ones_like()`"
   ]
  },
  {
   "cell_type": "code",
   "execution_count": 232,
   "metadata": {},
   "outputs": [],
   "source": [
    "# torch.ones_like(\n",
    "#     input,\n",
    "#     dtype=None,\n",
    "#     layout=None,\n",
    "#     device=None,\n",
    "#     requires_grad=False\n",
    "# )"
   ]
  },
  {
   "cell_type": "markdown",
   "metadata": {},
   "source": [
    "功能：依input形状创建全1张量\n",
    "- `size`：张量的形状\n",
    "- `dtype`：数据类型\n",
    "- `layout`：内存中布局形式\n",
    "- `device`：所在设备，cpu/gpu\n",
    "- `requires_grad`：是否需要梯度"
   ]
  },
  {
   "cell_type": "markdown",
   "metadata": {},
   "source": [
    "### 2.5 `torch.full()`"
   ]
  },
  {
   "cell_type": "code",
   "execution_count": 233,
   "metadata": {},
   "outputs": [],
   "source": [
    "# torch.fu1l(\n",
    "#     *size,\n",
    "#     out=None,\n",
    "#     dtype=None,\n",
    "#     layout=torch.strided,\n",
    "#     device=None,\n",
    "#     requires_grad=False\n",
    "# )"
   ]
  },
  {
   "cell_type": "code",
   "execution_count": 234,
   "metadata": {},
   "outputs": [
    {
     "name": "stdout",
     "output_type": "stream",
     "text": [
      "tensor([[1, 1, 1],\n",
      "        [1, 1, 1],\n",
      "        [1, 1, 1]])\n"
     ]
    }
   ],
   "source": [
    "flag = True\n",
    "if flag:\n",
    "    t = torch.full((3, 3), 1)\n",
    "    print(t)"
   ]
  },
  {
   "cell_type": "markdown",
   "metadata": {},
   "source": [
    "### 2.6 `torch.full_like()`"
   ]
  },
  {
   "cell_type": "code",
   "execution_count": 235,
   "metadata": {},
   "outputs": [],
   "source": [
    "# torch.full_like(\n",
    "#     input,\n",
    "#     fill_value,\n",
    "#     dtype=None,\n",
    "#     layout=None,\n",
    "#     device=None,\n",
    "#     requires_grad=False\n",
    "# )"
   ]
  },
  {
   "cell_type": "markdown",
   "metadata": {},
   "source": [
    "功能：依input形状创建全0张量\n",
    "- `size`：张量的形状\n",
    "- `fill_value`：张量的值"
   ]
  },
  {
   "cell_type": "markdown",
   "metadata": {},
   "source": [
    "### 2.7 `torch.arange()`"
   ]
  },
  {
   "cell_type": "code",
   "execution_count": 236,
   "metadata": {},
   "outputs": [],
   "source": [
    "# torch.arange(\n",
    "#     start=0,\n",
    "#     end,\n",
    "#     step=1,\n",
    "#     out=None,\n",
    "#     dtype=None,\n",
    "#     layout=torch.strided,\n",
    "#     device=None,\n",
    "#     requires_grad=False\n",
    "# )"
   ]
  },
  {
   "cell_type": "markdown",
   "metadata": {},
   "source": [
    "功能：创建等差的1维张量\n",
    "\n",
    "注意：数值区间为[start, end)\n",
    "- `start`：数列起始值\n",
    "- `end`：数列“结束值”\n",
    "- `step`：数列公差，默认为1"
   ]
  },
  {
   "cell_type": "code",
   "execution_count": 237,
   "metadata": {},
   "outputs": [
    {
     "name": "stdout",
     "output_type": "stream",
     "text": [
      "tensor([2, 4, 6, 8])\n"
     ]
    }
   ],
   "source": [
    "flag = True\n",
    "if flag:\n",
    "    t = torch.arange(2, 10, 2)\n",
    "    print(t)"
   ]
  },
  {
   "cell_type": "markdown",
   "metadata": {},
   "source": [
    "### 2.8 `torch.linspace()`"
   ]
  },
  {
   "cell_type": "code",
   "execution_count": 238,
   "metadata": {},
   "outputs": [],
   "source": [
    "# torch.linspace(\n",
    "#     start,\n",
    "#     end,\n",
    "#     steps,\n",
    "#     out=None,\n",
    "#     dtype=None,\n",
    "#     layout=torch.strided,\n",
    "#     device=None,\n",
    "#     requires_grad=False\n",
    "# )"
   ]
  },
  {
   "cell_type": "markdown",
   "metadata": {},
   "source": [
    "功能：创建均分的1维张量\n",
    "\n",
    "注意：数值区间为[start, end]\n",
    "- `start`：数列起始值\n",
    "- `end`：数列结束值\n",
    "- `steps`：数列长度"
   ]
  },
  {
   "cell_type": "code",
   "execution_count": 239,
   "metadata": {},
   "outputs": [
    {
     "name": "stdout",
     "output_type": "stream",
     "text": [
      "tensor([ 2.0000,  3.6000,  5.2000,  6.8000,  8.4000, 10.0000])\n"
     ]
    }
   ],
   "source": [
    "flag = True\n",
    "if flag:\n",
    "    t = torch.linspace(2, 10, 6)\n",
    "    print(t)"
   ]
  },
  {
   "cell_type": "markdown",
   "metadata": {},
   "source": [
    "### 2.9 `torch.logspace()`"
   ]
  },
  {
   "cell_type": "code",
   "execution_count": 240,
   "metadata": {},
   "outputs": [],
   "source": [
    "# torch.logspace(\n",
    "#     start,\n",
    "#     end,\n",
    "#     steps,\n",
    "#     base=10.0,\n",
    "#     out=None,\n",
    "#     dtype=None,\n",
    "#     layout=torch.strided,\n",
    "#     device=None,\n",
    "#     requires_grad=False\n",
    "# )"
   ]
  },
  {
   "cell_type": "markdown",
   "metadata": {},
   "source": [
    "功能：创建对数均分的1维张量\n",
    "\n",
    "注意：长度为steps，底为base\n",
    "- `start`：数列起始值\n",
    "- `end`：数列结束值\n",
    "- `steps`：数列长度\n",
    "- `base`：对数函数的底，默认为10"
   ]
  },
  {
   "cell_type": "markdown",
   "metadata": {},
   "source": [
    "### 2.10 `torch.eye()`"
   ]
  },
  {
   "cell_type": "code",
   "execution_count": 241,
   "metadata": {},
   "outputs": [],
   "source": [
    "# torch.eye(\n",
    "#     n,\n",
    "#     m=None,\n",
    "#     out=None,\n",
    "#     dtype=None,\n",
    "#     layout=torch.strided,\n",
    "#     device=None,\n",
    "#     requires_grad=False\n",
    "# )"
   ]
  },
  {
   "cell_type": "markdown",
   "metadata": {},
   "source": [
    "功能：创建单位对角矩阵（2维张量）\n",
    "注意：默认为方阵\n",
    "- `n`：矩阵行数\n",
    "- `m`：矩阵列数"
   ]
  },
  {
   "cell_type": "markdown",
   "metadata": {},
   "source": [
    "## 3、依概率分布创建张量"
   ]
  },
  {
   "cell_type": "markdown",
   "metadata": {},
   "source": [
    "### 3.1 `torch.normal()`"
   ]
  },
  {
   "cell_type": "code",
   "execution_count": 242,
   "metadata": {},
   "outputs": [],
   "source": [
    "# torch.normal(\n",
    "#     mean=0.0,\n",
    "#     std=1.0,\n",
    "#     size=(2, 3),\n",
    "#     out=None,\n",
    "#     dtype=None,\n",
    "#     layout=torch.strided,\n",
    "#     device=None,\n",
    "#     requires_grad=False\n",
    "# )"
   ]
  },
  {
   "cell_type": "markdown",
   "metadata": {},
   "source": [
    "功能：生成正态分布（高斯分布）\n",
    "- `mean`：均值\n",
    "- `std`：标准差"
   ]
  },
  {
   "cell_type": "code",
   "execution_count": 243,
   "metadata": {},
   "outputs": [
    {
     "name": "stdout",
     "output_type": "stream",
     "text": [
      "mean： tensor([1., 2., 3., 4.])\n",
      "std： tensor([1., 2., 3., 4.])\n",
      "t_normal： tensor([0.4311, 4.0635, 3.1900, 1.2404])\n",
      "----------------------------------------------------------------------------------------------------\n",
      "t_normal1： tensor([-0.1281, -1.9552,  1.5685,  0.5102])\n",
      "----------------------------------------------------------------------------------------------------\n",
      "mean： 0\n",
      "std： tensor([1., 2., 3., 4.])\n",
      "t_normal3： tensor([ 1.1218,  3.5642, -4.7367,  2.7311])\n",
      "----------------------------------------------------------------------------------------------------\n",
      "mean： tensor([1., 2., 3., 4.])\n",
      "std： 1\n",
      "t_normal2： tensor([1.1351, 2.5704, 3.0849, 6.0902])\n"
     ]
    }
   ],
   "source": [
    "flag = True\n",
    "if flag:\n",
    "    # （1）mean：张量， std：张量\n",
    "    mean = torch.arange(1, 5, dtype=torch.float)\n",
    "    std = torch.arange(1, 5, dtype=torch.float)\n",
    "    t_normal = torch.normal(mean, std)\n",
    "    print(\"mean：\", mean)\n",
    "    print(\"std：\", std)\n",
    "    print(\"t_normal：\", t_normal)\n",
    "    print('-'*100)\n",
    "\n",
    "    # （2）mean：标量， std：标量\n",
    "    t_normal1 = torch.normal(0., 1., size=(4,))\n",
    "    print(\"t_normal1：\", t_normal1)\n",
    "    print('-'*100)\n",
    "\n",
    "    # （3）mean：标量， std：张量\n",
    "    mean = 0\n",
    "    std = torch.arange(1, 5, dtype=torch.float)\n",
    "    t_normal3 = torch.normal(mean, std)\n",
    "    print(\"mean：\", mean)\n",
    "    print(\"std：\", std)\n",
    "    print(\"t_normal3：\", t_normal3)\n",
    "    print('-'*100)\n",
    "    \n",
    "\n",
    "    # （4）mean：张量， std：标量\n",
    "    mean = torch.arange(1, 5, dtype=torch.float)\n",
    "    std = 1\n",
    "    t_normal2 = torch.normal(mean, std)\n",
    "    print(\"mean：\", mean)\n",
    "    print(\"std：\", std)\n",
    "    print(\"t_normal2：\", t_normal2)\n"
   ]
  },
  {
   "cell_type": "markdown",
   "metadata": {},
   "source": [
    "### 3.2 `torch.randn()`"
   ]
  },
  {
   "cell_type": "code",
   "execution_count": 244,
   "metadata": {},
   "outputs": [],
   "source": [
    "# torch.randn(\n",
    "#     *size,\n",
    "#     out=None,\n",
    "#     dtype=None,\n",
    "#     layout=torch.strided,\n",
    "#     device=None,\n",
    "#     requires_grad=False\n",
    "# )"
   ]
  },
  {
   "cell_type": "markdown",
   "metadata": {},
   "source": [
    "### 3.3 `torch.randn_like()`"
   ]
  },
  {
   "cell_type": "code",
   "execution_count": 245,
   "metadata": {},
   "outputs": [],
   "source": [
    "# torch.randn_like(\n",
    "#     input,\n",
    "#     dtype=None,\n",
    "#     layout=None,\n",
    "#     device=None,\n",
    "#     requires_grad=False\n",
    "# )"
   ]
  },
  {
   "cell_type": "markdown",
   "metadata": {},
   "source": [
    "功能：生成标准**正态分布**\n",
    "- `size`：张量的形状"
   ]
  },
  {
   "cell_type": "markdown",
   "metadata": {},
   "source": [
    "### 3.4 `torch.rand()`"
   ]
  },
  {
   "cell_type": "code",
   "execution_count": 246,
   "metadata": {},
   "outputs": [],
   "source": [
    "# torch.rand(\n",
    "#     *size,\n",
    "#     out=None,\n",
    "#     dtype=None,\n",
    "#     layout=torch.strided,\n",
    "#     device=None,\n",
    "#     requires_grad=False\n",
    "# )"
   ]
  },
  {
   "cell_type": "markdown",
   "metadata": {},
   "source": [
    "### 3.5 `torch.rand_like()`"
   ]
  },
  {
   "cell_type": "code",
   "execution_count": 247,
   "metadata": {},
   "outputs": [],
   "source": [
    "# torch.rand_like(\n",
    "#     input,\n",
    "#     dtype=None,\n",
    "#     layout=None,\n",
    "#     device=None,\n",
    "#     requires_grad=False   \n",
    "# )"
   ]
  },
  {
   "cell_type": "markdown",
   "metadata": {},
   "source": [
    "功能：在区间[0, 1)上，生成**均匀分布**"
   ]
  },
  {
   "cell_type": "markdown",
   "metadata": {},
   "source": [
    "### 3.6 `torch.randint()`"
   ]
  },
  {
   "cell_type": "code",
   "execution_count": 248,
   "metadata": {},
   "outputs": [],
   "source": [
    "# torch.randint(\n",
    "#     low=0,\n",
    "#     high=10,\n",
    "#     size=(2, 3),\n",
    "#     dtype=None,\n",
    "#     layout=torch.strided,\n",
    "#     device=None,\n",
    "#     requires_grad=False\n",
    "# )"
   ]
  },
  {
   "cell_type": "markdown",
   "metadata": {},
   "source": [
    "### 3.7 `torch.randint_like()`"
   ]
  },
  {
   "cell_type": "code",
   "execution_count": 249,
   "metadata": {},
   "outputs": [],
   "source": [
    "# torch.randint_like(\n",
    "#     input,\n",
    "#     low=0,\n",
    "#     high=10,\n",
    "#     dtype=None,\n",
    "#     layout=None,\n",
    "#     device=None,\n",
    "#     requires_grad=False\n",
    "# )"
   ]
  },
  {
   "cell_type": "markdown",
   "metadata": {},
   "source": [
    "功能：在区间[low, high)生成整数**均匀分布**\n",
    "- `size`：张量的形状"
   ]
  },
  {
   "cell_type": "markdown",
   "metadata": {},
   "source": [
    "### 3.8 `torch.randperm()`"
   ]
  },
  {
   "cell_type": "code",
   "execution_count": 250,
   "metadata": {},
   "outputs": [],
   "source": [
    "# torch.randperm(\n",
    "#     n,\n",
    "#     dtype=None,\n",
    "#     layout=torch.strided,\n",
    "#     device=None,\n",
    "#     requires_grad=False\n",
    "# )"
   ]
  },
  {
   "cell_type": "markdown",
   "metadata": {},
   "source": [
    "功能：生成从0到n-1的随机排列\n",
    "- `n`：张量的长度"
   ]
  },
  {
   "cell_type": "markdown",
   "metadata": {},
   "source": [
    "### 3.9 `torch.bernoulli()`"
   ]
  },
  {
   "cell_type": "code",
   "execution_count": 251,
   "metadata": {},
   "outputs": [],
   "source": [
    "# torch.bernoulli(\n",
    "#     input,\n",
    "#     generator=None,\n",
    "#     out=None,\n",
    "#     dtype=None,\n",
    "#     layout=torch.strided,\n",
    "#     device=None,\n",
    "#     requires_grad=False\n",
    "# )"
   ]
  },
  {
   "cell_type": "markdown",
   "metadata": {},
   "source": [
    "功能：以input为概率，生成伯努力分布（0-1分布，两点分布）\n",
    "- `input`：概率值"
   ]
  }
 ],
 "metadata": {
  "kernelspec": {
   "display_name": "base",
   "language": "python",
   "name": "python3"
  },
  "language_info": {
   "codemirror_mode": {
    "name": "ipython",
    "version": 3
   },
   "file_extension": ".py",
   "mimetype": "text/x-python",
   "name": "python",
   "nbconvert_exporter": "python",
   "pygments_lexer": "ipython3",
   "version": "3.11.7"
  }
 },
 "nbformat": 4,
 "nbformat_minor": 2
}
