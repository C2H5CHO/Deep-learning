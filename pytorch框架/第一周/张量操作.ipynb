{
 "cells": [
  {
   "cell_type": "code",
   "execution_count": 933,
   "metadata": {},
   "outputs": [],
   "source": [
    "import torch"
   ]
  },
  {
   "cell_type": "markdown",
   "metadata": {},
   "source": [
    "# 一、张量的操作"
   ]
  },
  {
   "cell_type": "markdown",
   "metadata": {},
   "source": [
    "## 1、张量的拼接与切分"
   ]
  },
  {
   "cell_type": "markdown",
   "metadata": {},
   "source": [
    "### 1.1 `torch.cat()`"
   ]
  },
  {
   "cell_type": "code",
   "execution_count": 934,
   "metadata": {},
   "outputs": [],
   "source": [
    "# torch.cat(\n",
    "#     tensors,\n",
    "#     dim=0,\n",
    "#     out=None\n",
    "# )"
   ]
  },
  {
   "cell_type": "markdown",
   "metadata": {},
   "source": [
    "功能：将张量按维度dim进行拼接\n",
    "- `tensors`：张量序列\n",
    "- `dim`：要拼接的维度"
   ]
  },
  {
   "cell_type": "code",
   "execution_count": 935,
   "metadata": {},
   "outputs": [
    {
     "name": "stdout",
     "output_type": "stream",
     "text": [
      "t： tensor([[1., 1., 1.],\n",
      "        [1., 1., 1.]]) torch.Size([2, 3])\n",
      "----------------------------------------------------------------------------------------------------\n",
      "t0： tensor([[1., 1., 1.],\n",
      "        [1., 1., 1.],\n",
      "        [1., 1., 1.],\n",
      "        [1., 1., 1.]]) torch.Size([4, 3])\n",
      "----------------------------------------------------------------------------------------------------\n",
      "t1： tensor([[1., 1., 1., 1., 1., 1.],\n",
      "        [1., 1., 1., 1., 1., 1.]]) torch.Size([2, 6])\n",
      "----------------------------------------------------------------------------------------------------\n",
      "t2： tensor([[1., 1., 1., 1., 1., 1., 1., 1., 1.],\n",
      "        [1., 1., 1., 1., 1., 1., 1., 1., 1.]]) torch.Size([2, 9])\n"
     ]
    }
   ],
   "source": [
    "if True:\n",
    "    t = torch.ones((2, 3))\n",
    "    t0 = torch.cat([t, t], dim=0)\n",
    "    t1 = torch.cat([t, t], dim=1)\n",
    "    t2 = torch.cat([t, t, t], dim=1)\n",
    "    print(\"t：\", t, t.shape)\n",
    "    print('-'*100)\n",
    "    print(\"t0：\", t0, t0.shape)\n",
    "    print('-'*100)\n",
    "    print(\"t1：\", t1, t1.shape)\n",
    "    print('-'*100)\n",
    "    print(\"t2：\", t2, t2.shape)"
   ]
  },
  {
   "cell_type": "markdown",
   "metadata": {},
   "source": [
    "### 1.2 `torch.stack()`"
   ]
  },
  {
   "cell_type": "code",
   "execution_count": 936,
   "metadata": {},
   "outputs": [],
   "source": [
    "# torch.stack(\n",
    "#     tensors,\n",
    "#     dim=0,\n",
    "#     out=None\n",
    "# )"
   ]
  },
  {
   "cell_type": "markdown",
   "metadata": {},
   "source": [
    "功能：在新创建的维度dim上进行拼接\n",
    "- `tensors`：张量序列\n",
    "- `dim`：要拼接的维度"
   ]
  },
  {
   "cell_type": "code",
   "execution_count": 937,
   "metadata": {},
   "outputs": [
    {
     "name": "stdout",
     "output_type": "stream",
     "text": [
      "t： tensor([[1., 1., 1.],\n",
      "        [1., 1., 1.]]) torch.Size([2, 3])\n",
      "----------------------------------------------------------------------------------------------------\n",
      "t0： tensor([[[1., 1., 1.],\n",
      "         [1., 1., 1.]],\n",
      "\n",
      "        [[1., 1., 1.],\n",
      "         [1., 1., 1.]]]) torch.Size([2, 2, 3])\n",
      "----------------------------------------------------------------------------------------------------\n",
      "t1： tensor([[[1., 1., 1.],\n",
      "         [1., 1., 1.]],\n",
      "\n",
      "        [[1., 1., 1.],\n",
      "         [1., 1., 1.]]]) torch.Size([2, 2, 3])\n",
      "----------------------------------------------------------------------------------------------------\n",
      "t2： tensor([[[1., 1., 1.],\n",
      "         [1., 1., 1.]],\n",
      "\n",
      "        [[1., 1., 1.],\n",
      "         [1., 1., 1.]],\n",
      "\n",
      "        [[1., 1., 1.],\n",
      "         [1., 1., 1.]]]) torch.Size([3, 2, 3])\n"
     ]
    }
   ],
   "source": [
    "if True:\n",
    "    t = torch.ones((2, 3))\n",
    "    t0 = torch.stack([t, t], dim=0)\n",
    "    t1 = torch.stack([t, t], dim=1)\n",
    "    t2 = torch.stack([t, t, t], dim=0)\n",
    "    print(\"t：\", t, t.shape)\n",
    "    print('-'*100)\n",
    "    print(\"t0：\", t0, t0.shape)\n",
    "    print('-'*100)\n",
    "    print(\"t1：\", t1, t1.shape)\n",
    "    print('-'*100)\n",
    "    print(\"t2：\", t2, t2.shape)"
   ]
  },
  {
   "cell_type": "markdown",
   "metadata": {},
   "source": [
    "### 1.3 `torch.chunk()`"
   ]
  },
  {
   "cell_type": "code",
   "execution_count": 938,
   "metadata": {},
   "outputs": [],
   "source": [
    "# torch.chunk(\n",
    "#     tensor,\n",
    "#     chunks,\n",
    "#     dim=0,\n",
    "#     out=None\n",
    "# )"
   ]
  },
  {
   "cell_type": "markdown",
   "metadata": {},
   "source": [
    "功能：将张量按维度dim进行平均切分\n",
    "返回值：张量列表\n",
    "注意：若不能除整，最后一份张量小于其他张量\n",
    "- `input`：要切分的张量\n",
    "- `chunks`：要切分的份数\n",
    "- `dim`：要切分的维度"
   ]
  },
  {
   "cell_type": "code",
   "execution_count": 939,
   "metadata": {},
   "outputs": [
    {
     "name": "stdout",
     "output_type": "stream",
     "text": [
      "t0： tensor([[1., 1., 1.],\n",
      "        [1., 1., 1.]]) torch.Size([2, 3])\n",
      "t1： tensor([[1., 1.],\n",
      "        [1., 1.]]) torch.Size([2, 2])\n"
     ]
    }
   ],
   "source": [
    "if True:\n",
    "    a = torch.ones((2, 5))\n",
    "    list_of_tensors = torch.chunk(a, dim=1, chunks=2)\n",
    "\n",
    "    for idx, t in enumerate(list_of_tensors):\n",
    "        print(\"t{}：\".format(idx), t, t.shape)"
   ]
  },
  {
   "cell_type": "markdown",
   "metadata": {},
   "source": [
    "### 1.4 `torch.split()`"
   ]
  },
  {
   "cell_type": "code",
   "execution_count": 940,
   "metadata": {},
   "outputs": [],
   "source": [
    "# torch.split(\n",
    "#     tensor,\n",
    "#     split_size_or_sections,\n",
    "#     dim=0,\n",
    "#     out=None\n",
    "# )"
   ]
  },
  {
   "cell_type": "markdown",
   "metadata": {},
   "source": [
    "功能：将张量按维度dim进行切分\n",
    "返回值：张量列表\n",
    "- `tensor`：要切分的张量\n",
    "- `split_size_or_sections`：int，表示每一份的长度；list，表示按list元素切分\n",
    "- `dim`：要切分的维度"
   ]
  },
  {
   "cell_type": "code",
   "execution_count": 941,
   "metadata": {},
   "outputs": [
    {
     "name": "stdout",
     "output_type": "stream",
     "text": [
      "t0： tensor([[1., 1.],\n",
      "        [1., 1.]]) torch.Size([2, 2])\n",
      "t1： tensor([[1., 1.],\n",
      "        [1., 1.]]) torch.Size([2, 2])\n",
      "t2： tensor([[1.],\n",
      "        [1.]]) torch.Size([2, 1])\n",
      "----------------------------------------------------------------------------------------------------\n",
      "t0： tensor([[1., 1.],\n",
      "        [1., 1.]]) torch.Size([2, 2])\n",
      "t1： tensor([[1.],\n",
      "        [1.]]) torch.Size([2, 1])\n",
      "t2： tensor([[1., 1.],\n",
      "        [1., 1.]]) torch.Size([2, 2])\n"
     ]
    }
   ],
   "source": [
    "if True:\n",
    "    t = torch.ones((2, 5))\n",
    "    list_of_tensors = torch.split(t, 2, dim=1)\n",
    "    for idx, t in enumerate(list_of_tensors):\n",
    "        print(\"t{}：\".format(idx), t, t.shape)\n",
    "\n",
    "    print('-'*100)\n",
    "\n",
    "    t = torch.ones((2, 5))\n",
    "    list_of_tensors1 = torch.split(t, [2, 1, 2], dim=1)\n",
    "    for idx, t in enumerate(list_of_tensors1):\n",
    "        print(\"t{}：\".format(idx), t, t.shape)"
   ]
  },
  {
   "cell_type": "markdown",
   "metadata": {},
   "source": [
    "## 2、张量索引"
   ]
  },
  {
   "cell_type": "markdown",
   "metadata": {},
   "source": [
    "### 2.1 `torch.index_select()`"
   ]
  },
  {
   "cell_type": "code",
   "execution_count": 942,
   "metadata": {},
   "outputs": [],
   "source": [
    "# torch.index_select(\n",
    "#     input,\n",
    "#     dim,\n",
    "#     index,\n",
    "#     out=None\n",
    "# )"
   ]
  },
  {
   "cell_type": "markdown",
   "metadata": {},
   "source": [
    "功能：在维度dim上，按index索引数据\n",
    "返回值：依index索引数据拼接的张量\n",
    "- `input`：要索引的张量\n",
    "- `dim`：要索引的维度\n",
    "- `index`：要索引数据的序号"
   ]
  },
  {
   "cell_type": "code",
   "execution_count": 943,
   "metadata": {},
   "outputs": [
    {
     "name": "stdout",
     "output_type": "stream",
     "text": [
      "t： tensor([[8, 5, 6],\n",
      "        [4, 0, 0],\n",
      "        [8, 2, 7]]) torch.Size([3, 3])\n",
      "----------------------------------------------------------------------------------------------------\n",
      "t_select： tensor([[8, 5, 6],\n",
      "        [8, 2, 7]]) torch.Size([2, 3])\n"
     ]
    }
   ],
   "source": [
    "if True:\n",
    "    t = torch.randint(0, 9, size=(3, 3))\n",
    "    idx = torch.tensor([0, 2], dtype=torch.long) # 此处不可以用 float 类型的索引\n",
    "    t_select = torch.index_select(t, dim=0, index=idx)\n",
    "    print(\"t：\", t, t.shape)\n",
    "    print('-'*100)\n",
    "    print(\"t_select：\", t_select, t_select.shape)"
   ]
  },
  {
   "cell_type": "markdown",
   "metadata": {},
   "source": [
    "### 2.2 `torch.masked_select()`"
   ]
  },
  {
   "cell_type": "code",
   "execution_count": 944,
   "metadata": {},
   "outputs": [],
   "source": [
    "# torch.masked_select(\n",
    "#     input,\n",
    "#     mask,\n",
    "#     out=None\n",
    "# )"
   ]
  },
  {
   "cell_type": "markdown",
   "metadata": {},
   "source": [
    "功能：按mask中的True进行索引\n",
    "返回值：一维张量\n",
    "- `input`：要索引的张量\n",
    "- `mask`：与input同形状的布尔类型张量"
   ]
  },
  {
   "cell_type": "code",
   "execution_count": 945,
   "metadata": {},
   "outputs": [
    {
     "name": "stdout",
     "output_type": "stream",
     "text": [
      "t： tensor([[0, 0, 5],\n",
      "        [1, 7, 6],\n",
      "        [2, 4, 7]]) torch.Size([3, 3])\n",
      "----------------------------------------------------------------------------------------------------\n",
      "mask： tensor([[False, False,  True],\n",
      "        [False,  True,  True],\n",
      "        [False, False,  True]]) torch.Size([3, 3])\n",
      "----------------------------------------------------------------------------------------------------\n",
      "t_select： tensor([5, 7, 6, 7]) torch.Size([4])\n"
     ]
    }
   ],
   "source": [
    "if True:\n",
    "    t = torch.randint(0, 9, size=(3, 3))\n",
    "    mask = t.ge(5) # 大于等于 5 的元素为 True\n",
    "    t_select = torch.masked_select(t, mask)\n",
    "    print(\"t：\", t, t.shape)\n",
    "    print('-'*100)\n",
    "    print(\"mask：\", mask, mask.shape)\n",
    "    print('-'*100)\n",
    "    print(\"t_select：\", t_select, t_select.shape)"
   ]
  },
  {
   "cell_type": "markdown",
   "metadata": {},
   "source": [
    "## 3、张量的变换"
   ]
  },
  {
   "cell_type": "markdown",
   "metadata": {},
   "source": [
    "### 3.1 `torch.reshape()`"
   ]
  },
  {
   "cell_type": "code",
   "execution_count": 946,
   "metadata": {},
   "outputs": [],
   "source": [
    "# torch.reshape(\n",
    "#     input,\n",
    "#     shape,\n",
    "#     *,  # 位置参数之后的参数必须使用关键字参数传入\n",
    "#     out=None\n",
    "# )"
   ]
  },
  {
   "cell_type": "markdown",
   "metadata": {},
   "source": [
    "功能：变换张量形状\n",
    "注意：当张量在内存中是连续时，新张量与input共享内存数据\n",
    "- `input`：要变换的张量\n",
    "- `shape`：新张量的形状"
   ]
  },
  {
   "cell_type": "code",
   "execution_count": 947,
   "metadata": {},
   "outputs": [
    {
     "name": "stdout",
     "output_type": "stream",
     "text": [
      "t： tensor([7, 4, 5, 2, 3, 1, 6, 0]) torch.Size([8])\n",
      "----------------------------------------------------------------------------------------------------\n",
      "t_reshape： tensor([[7, 4, 5, 2],\n",
      "        [3, 1, 6, 0]]) torch.Size([2, 4])\n",
      "----------------------------------------------------------------------------------------------------\n",
      "t： tensor([100,   4,   5,   2,   3,   1,   6,   0]) torch.Size([8]) 1356478042608\n",
      "----------------------------------------------------------------------------------------------------\n",
      "t_reshape： tensor([[100,   4,   5,   2],\n",
      "        [  3,   1,   6,   0]]) torch.Size([2, 4]) 1356478042608\n"
     ]
    }
   ],
   "source": [
    "if True:\n",
    "    t = torch.randperm(8)\n",
    "    t_reshape = torch.reshape(t, (2, 4))\n",
    "    print(\"t：\", t, t.shape)\n",
    "    print('-'*100)\n",
    "    print(\"t_reshape：\", t_reshape, t_reshape.shape)\n",
    "    print('-'*100)\n",
    "\n",
    "    t[0] = 100\n",
    "    print(\"t：\", t, t.shape, id(t.data))\n",
    "    print('-'*100)\n",
    "    print(\"t_reshape：\", t_reshape, t_reshape.shape, id(t_reshape.data))"
   ]
  },
  {
   "cell_type": "markdown",
   "metadata": {},
   "source": [
    "### 3.2 `torch.transpose()`"
   ]
  },
  {
   "cell_type": "code",
   "execution_count": 948,
   "metadata": {},
   "outputs": [],
   "source": [
    "# torch.transpose(\n",
    "#     input,\n",
    "#     dim0,\n",
    "#     dim1,\n",
    "#     out=None\n",
    "# )"
   ]
  },
  {
   "cell_type": "markdown",
   "metadata": {},
   "source": [
    "功能：交换张量的两个维度\n",
    "- `input`：要交换的张量\n",
    "- `dim0`：要交换的维度\n",
    "- `dim1`：要交换的维度"
   ]
  },
  {
   "cell_type": "code",
   "execution_count": 949,
   "metadata": {},
   "outputs": [
    {
     "name": "stdout",
     "output_type": "stream",
     "text": [
      "t： tensor([[[0.3568, 0.2236, 0.2332, 0.0723],\n",
      "         [0.4364, 0.9284, 0.7293, 0.8212],\n",
      "         [0.4140, 0.0528, 0.6635, 0.0538]],\n",
      "\n",
      "        [[0.9671, 0.1780, 0.8606, 0.7937],\n",
      "         [0.0566, 0.6374, 0.6025, 0.3482],\n",
      "         [0.7870, 0.8688, 0.5034, 0.0105]]]) torch.Size([2, 3, 4])\n",
      "----------------------------------------------------------------------------------------------------\n",
      "t_transpose： tensor([[[0.3568, 0.4364, 0.4140],\n",
      "         [0.2236, 0.9284, 0.0528],\n",
      "         [0.2332, 0.7293, 0.6635],\n",
      "         [0.0723, 0.8212, 0.0538]],\n",
      "\n",
      "        [[0.9671, 0.0566, 0.7870],\n",
      "         [0.1780, 0.6374, 0.8688],\n",
      "         [0.8606, 0.6025, 0.5034],\n",
      "         [0.7937, 0.3482, 0.0105]]]) torch.Size([2, 4, 3])\n"
     ]
    }
   ],
   "source": [
    "if True:\n",
    "    t = torch.rand((2, 3, 4))\n",
    "    t_transpose = torch.transpose(t, dim0=1, dim1=2)\n",
    "    print(\"t：\", t, t.shape)\n",
    "    print('-'*100)\n",
    "    print(\"t_transpose：\", t_transpose, t_transpose.shape)"
   ]
  },
  {
   "cell_type": "markdown",
   "metadata": {},
   "source": [
    "### 3.3 `torch.t()`"
   ]
  },
  {
   "cell_type": "code",
   "execution_count": 950,
   "metadata": {},
   "outputs": [],
   "source": [
    "# torch.t(\n",
    "#     input,\n",
    "#     out=None\n",
    "# )"
   ]
  },
  {
   "cell_type": "markdown",
   "metadata": {},
   "source": [
    "功能：2维张量转置，对矩阵而言，等价于 `torch.transpose(innput, o, 1)`"
   ]
  },
  {
   "cell_type": "markdown",
   "metadata": {},
   "source": [
    "### 3.4 `torch.squeeze()`"
   ]
  },
  {
   "cell_type": "code",
   "execution_count": 951,
   "metadata": {},
   "outputs": [],
   "source": [
    "# torch.squeeze(\n",
    "#     input,\n",
    "#     dim=None,\n",
    "#     out=None\n",
    "# )"
   ]
  },
  {
   "cell_type": "markdown",
   "metadata": {},
   "source": [
    "功能：**压缩**长度为1的维度（轴）\n",
    "- `dim`：若为None，移除所有长度为1的轴；若为指定维度，当且仅当该轴为1时，可以被移除"
   ]
  },
  {
   "cell_type": "code",
   "execution_count": 952,
   "metadata": {},
   "outputs": [
    {
     "name": "stdout",
     "output_type": "stream",
     "text": [
      "t： tensor([[[[[0.2921, 0.6610, 0.0888, 0.2806]],\n",
      "\n",
      "          [[0.8843, 0.5866, 0.4123, 0.0718]],\n",
      "\n",
      "          [[0.8846, 0.8506, 0.7666, 0.7986]]]],\n",
      "\n",
      "\n",
      "\n",
      "        [[[[0.1835, 0.1505, 0.3461, 0.4873]],\n",
      "\n",
      "          [[0.9442, 0.6077, 0.4279, 0.9094]],\n",
      "\n",
      "          [[0.4117, 0.2219, 0.3368, 0.7627]]]]]) torch.Size([2, 1, 3, 1, 4])\n",
      "----------------------------------------------------------------------------------------------------\n",
      "t_squeeze： tensor([[[0.2921, 0.6610, 0.0888, 0.2806],\n",
      "         [0.8843, 0.5866, 0.4123, 0.0718],\n",
      "         [0.8846, 0.8506, 0.7666, 0.7986]],\n",
      "\n",
      "        [[0.1835, 0.1505, 0.3461, 0.4873],\n",
      "         [0.9442, 0.6077, 0.4279, 0.9094],\n",
      "         [0.4117, 0.2219, 0.3368, 0.7627]]]) torch.Size([2, 3, 4])\n",
      "----------------------------------------------------------------------------------------------------\n",
      "t_squeeze1： tensor([[[[[0.2921, 0.6610, 0.0888, 0.2806]],\n",
      "\n",
      "          [[0.8843, 0.5866, 0.4123, 0.0718]],\n",
      "\n",
      "          [[0.8846, 0.8506, 0.7666, 0.7986]]]],\n",
      "\n",
      "\n",
      "\n",
      "        [[[[0.1835, 0.1505, 0.3461, 0.4873]],\n",
      "\n",
      "          [[0.9442, 0.6077, 0.4279, 0.9094]],\n",
      "\n",
      "          [[0.4117, 0.2219, 0.3368, 0.7627]]]]]) torch.Size([2, 1, 3, 1, 4])\n",
      "----------------------------------------------------------------------------------------------------\n",
      "t_squeeze2： tensor([[[[0.2921, 0.6610, 0.0888, 0.2806]],\n",
      "\n",
      "         [[0.8843, 0.5866, 0.4123, 0.0718]],\n",
      "\n",
      "         [[0.8846, 0.8506, 0.7666, 0.7986]]],\n",
      "\n",
      "\n",
      "        [[[0.1835, 0.1505, 0.3461, 0.4873]],\n",
      "\n",
      "         [[0.9442, 0.6077, 0.4279, 0.9094]],\n",
      "\n",
      "         [[0.4117, 0.2219, 0.3368, 0.7627]]]]) torch.Size([2, 3, 1, 4])\n"
     ]
    }
   ],
   "source": [
    "if True:\n",
    "    t = torch.rand((2, 1, 3, 1, 4))\n",
    "    t_squeeze = torch.squeeze(t)\n",
    "    print(\"t：\", t, t.shape)\n",
    "    print('-'*100)\n",
    "    print(\"t_squeeze：\", t_squeeze, t_squeeze.shape)\n",
    "    print('-'*100)\n",
    "\n",
    "    t_squeeze1 = torch.squeeze(t, dim=0)\n",
    "    print(\"t_squeeze1：\", t_squeeze1, t_squeeze1.shape)\n",
    "    print('-'*100)\n",
    "\n",
    "    t_squeeze2 = torch.squeeze(t, dim=1)\n",
    "    print(\"t_squeeze2：\", t_squeeze2, t_squeeze2.shape)\n"
   ]
  },
  {
   "cell_type": "markdown",
   "metadata": {},
   "source": [
    "### 3.5 `torch.unsqueeze()`"
   ]
  },
  {
   "cell_type": "code",
   "execution_count": 953,
   "metadata": {},
   "outputs": [],
   "source": [
    "# torch.unsqueeze(\n",
    "#     input,\n",
    "#     dim,\n",
    "#     out=None\n",
    "# )"
   ]
  },
  {
   "cell_type": "markdown",
   "metadata": {},
   "source": [
    "功能：依据dim**扩展**维度\n",
    "- `dim`：扩展的维度"
   ]
  },
  {
   "cell_type": "markdown",
   "metadata": {},
   "source": [
    "# 二、张量的数学运算"
   ]
  },
  {
   "cell_type": "markdown",
   "metadata": {},
   "source": [
    "## 2.1 加减乘除"
   ]
  },
  {
   "cell_type": "markdown",
   "metadata": {},
   "source": [
    "### 2.1.1 `torch.add()`"
   ]
  },
  {
   "cell_type": "markdown",
   "metadata": {},
   "source": [
    "功能：对两个张量进行逐元素相加，并返回一个新的张量作为结果"
   ]
  },
  {
   "cell_type": "code",
   "execution_count": 954,
   "metadata": {},
   "outputs": [
    {
     "name": "stdout",
     "output_type": "stream",
     "text": [
      "tensor([5, 7, 9])\n",
      "----------------------------------------------------------------------------------------------------\n",
      "tensor([ 9, 12, 15])\n",
      "----------------------------------------------------------------------------------------------------\n",
      "tensor([[11, 22],\n",
      "        [13, 24]])\n"
     ]
    }
   ],
   "source": [
    "if True:\n",
    "    # （1）基本用法\n",
    "    a = torch.tensor([1, 2, 3])\n",
    "    b = torch.tensor([4, 5, 6])\n",
    "    result = torch.add(a, b)\n",
    "    print(result)\n",
    "    print('-'*100)\n",
    "\n",
    "    # （2）带权重的加法\n",
    "    result1 = torch.add(a, b, alpha=2)\n",
    "    print(result1)\n",
    "    print('-'*100)\n",
    "\n",
    "    # （3）广播机制\n",
    "    a = torch.tensor([[1, 2], [3, 4]])\n",
    "    b = torch.tensor([10, 20])\n",
    "    result2 = torch.add(a, b)\n",
    "    print(result2)"
   ]
  },
  {
   "cell_type": "markdown",
   "metadata": {},
   "source": [
    "### 2.1.2 `torch.addcdiv()`"
   ]
  },
  {
   "cell_type": "markdown",
   "metadata": {},
   "source": [
    "功能：将一个张量与两个其他张量按元素相除的结果相加，并支持通过一个标量对除法结果进行缩放\n",
    "\n",
    "计算公式：$output = input + value * (tensor1 / tensor2)$"
   ]
  },
  {
   "cell_type": "code",
   "execution_count": 955,
   "metadata": {},
   "outputs": [
    {
     "name": "stdout",
     "output_type": "stream",
     "text": [
      "tensor([2.0000, 3.2500, 4.5000])\n"
     ]
    }
   ],
   "source": [
    "if True:\n",
    "    input = torch.tensor([1.0, 2.0, 3.0])\n",
    "    tensor1 = torch.tensor([4.0, 5.0, 6.0])\n",
    "    tensor2 = torch.tensor([2.0, 2.0, 2.0])\n",
    "\n",
    "    result = torch.addcdiv(input, tensor1, tensor2, value=0.5)\n",
    "    print(result)"
   ]
  },
  {
   "cell_type": "markdown",
   "metadata": {},
   "source": [
    "### 2.1.3 `torch.addcmul()`"
   ]
  },
  {
   "cell_type": "markdown",
   "metadata": {},
   "source": [
    "功能：将一个张量与两个其他张量按元素相乘的结果相加，并支持通过一个标量对乘法结果进行缩放\n",
    "\n",
    "计算公式：$output = input + value * (tensor1 * tensor2)$"
   ]
  },
  {
   "cell_type": "code",
   "execution_count": 956,
   "metadata": {},
   "outputs": [
    {
     "name": "stdout",
     "output_type": "stream",
     "text": [
      "tensor([5., 7., 9.])\n"
     ]
    }
   ],
   "source": [
    "if True:\n",
    "    input = torch.tensor([1.0, 2.0, 3.0])\n",
    "    tensor1 = torch.tensor([4.0, 5.0, 6.0])\n",
    "    tensor2 = torch.tensor([2.0, 2.0, 2.0])\n",
    "\n",
    "    result = torch.addcmul(input, tensor1, tensor2, value=0.5)\n",
    "    print(result)"
   ]
  },
  {
   "cell_type": "markdown",
   "metadata": {},
   "source": [
    "### 2.1.4 `torch.sub()`"
   ]
  },
  {
   "cell_type": "markdown",
   "metadata": {},
   "source": [
    "功能：对两个张量进行逐元素相减，并返回一个新的张量作为结果"
   ]
  },
  {
   "cell_type": "code",
   "execution_count": 957,
   "metadata": {},
   "outputs": [
    {
     "name": "stdout",
     "output_type": "stream",
     "text": [
      "tensor([4, 5, 6])\n",
      "----------------------------------------------------------------------------------------------------\n",
      "tensor([3, 3, 3])\n",
      "----------------------------------------------------------------------------------------------------\n",
      "tensor([4, 5, 6])\n"
     ]
    }
   ],
   "source": [
    "if True:\n",
    "    # （1）基本用法\n",
    "    a = torch.tensor([5, 7, 9])\n",
    "    b = torch.tensor([1, 2, 3])\n",
    "    result = torch.sub(a, b)\n",
    "    print(result)\n",
    "    print('-'*100)\n",
    "\n",
    "    # （2）带权重的减法\n",
    "    result1 = torch.sub(a, b, alpha=2)\n",
    "    print(result1)\n",
    "    print('-'*100)\n",
    "\n",
    "    # （3）广播机制\n",
    "    c = torch.tensor([[5, 7, 9], [10, 12, 14]])\n",
    "    d = torch.tensor([1, 2, 3])\n",
    "    result3 = torch.sub(a, b)\n",
    "    print(result3)"
   ]
  },
  {
   "cell_type": "markdown",
   "metadata": {},
   "source": [
    "### 2.1.5 `torch.div()`"
   ]
  },
  {
   "cell_type": "markdown",
   "metadata": {},
   "source": [
    "功能：对两个张量进行逐元素相除，并返回一个新的张量作为结果"
   ]
  },
  {
   "cell_type": "code",
   "execution_count": 958,
   "metadata": {},
   "outputs": [
    {
     "name": "stdout",
     "output_type": "stream",
     "text": [
      "tensor([5., 5., 6.])\n",
      "----------------------------------------------------------------------------------------------------\n",
      "tensor([ 5., 10., 15.])\n",
      "----------------------------------------------------------------------------------------------------\n",
      "tensor([[ 5.0000,  5.0000,  6.0000],\n",
      "        [20.0000, 12.5000, 12.0000]])\n"
     ]
    }
   ],
   "source": [
    "if True:\n",
    "    # （1）基本用法\n",
    "    a = torch.tensor([10.0, 20.0, 30.0])\n",
    "    b = torch.tensor([2.0, 4.0, 5.0])\n",
    "    # 张量与张量相除\n",
    "    result = torch.div(a, b)\n",
    "    print(result)\n",
    "    print('-'*100)\n",
    "\n",
    "    # 张量与标量相除\n",
    "    result1 = torch.div(a, 2.0)\n",
    "    print(result1)\n",
    "    print('-'*100)\n",
    "\n",
    "    # （2）广播机制\n",
    "    c = torch.tensor([[10.0, 20.0, 30.0], [40.0, 50.0, 60.0]])\n",
    "    d = torch.tensor([2.0, 4.0, 5.0])\n",
    "    result2 = torch.div(c, d)\n",
    "    print(result2)"
   ]
  },
  {
   "cell_type": "markdown",
   "metadata": {},
   "source": [
    "### 2.1.6 `torch.mul()`"
   ]
  },
  {
   "cell_type": "markdown",
   "metadata": {},
   "source": [
    "功能：对两个张量的对应元素进行相乘操作，并返回一个新的张量作为结果"
   ]
  },
  {
   "cell_type": "code",
   "execution_count": 959,
   "metadata": {},
   "outputs": [
    {
     "name": "stdout",
     "output_type": "stream",
     "text": [
      "tensor([ 4, 10, 18])\n",
      "----------------------------------------------------------------------------------------------------\n",
      "tensor([2, 4, 6])\n",
      "----------------------------------------------------------------------------------------------------\n",
      "tensor([[ 2,  6, 12],\n",
      "        [ 8, 15, 24]])\n"
     ]
    }
   ],
   "source": [
    "if True:\n",
    "    # （1）基本用法\n",
    "    a = torch.tensor([1, 2, 3])\n",
    "    b = torch.tensor([4, 5, 6])\n",
    "    # 张量与张量相乘\n",
    "    result = torch.mul(a, b)\n",
    "    print(result)\n",
    "    print('-'*100)\n",
    "\n",
    "    # 张量与标量相乘\n",
    "    result1 = torch.mul(a, 2)\n",
    "    print(result1)\n",
    "    print('-'*100)\n",
    "\n",
    "    # （2）广播机制\n",
    "    c = torch.tensor([[1, 2, 3], [4, 5, 6]])\n",
    "    d = torch.tensor([2, 3, 4])\n",
    "    result2 = torch.mul(c, d)\n",
    "    print(result2)"
   ]
  },
  {
   "cell_type": "markdown",
   "metadata": {},
   "source": [
    "## 2.2 对数、指数、幂函数"
   ]
  },
  {
   "cell_type": "markdown",
   "metadata": {},
   "source": [
    "### 2.2.1 `torch.log(input, out=None)`"
   ]
  },
  {
   "cell_type": "markdown",
   "metadata": {},
   "source": [
    "功能：计算张量中每个元素的自然对数（以 e 为底的对数）的函数"
   ]
  },
  {
   "cell_type": "code",
   "execution_count": 960,
   "metadata": {},
   "outputs": [
    {
     "name": "stdout",
     "output_type": "stream",
     "text": [
      "tensor([0.0000, 1.0000, 2.3026])\n",
      "----------------------------------------------------------------------------------------------------\n",
      "tensor([0.0000, 1.0000, 2.3026])\n"
     ]
    }
   ],
   "source": [
    "if True:\n",
    "    # （1）基本用法\n",
    "    a = torch.tensor([1.0, 2.7183, 10.0])\n",
    "\n",
    "    result = torch.log(a)\n",
    "    print(result)\n",
    "    print('-'*100)\n",
    "\n",
    "    # （2）使用out参数\n",
    "    output = torch.empty(3)\n",
    "    torch.log(a, out=output)\n",
    "    print(output)"
   ]
  },
  {
   "cell_type": "markdown",
   "metadata": {},
   "source": [
    "### 2.2.2 `torch.log10(input, out=None)`"
   ]
  },
  {
   "cell_type": "markdown",
   "metadata": {},
   "source": [
    "功能：计算张量中每个元素以10为底的对数的函数"
   ]
  },
  {
   "cell_type": "code",
   "execution_count": 961,
   "metadata": {},
   "outputs": [
    {
     "name": "stdout",
     "output_type": "stream",
     "text": [
      "tensor([0., 1., 2.])\n",
      "----------------------------------------------------------------------------------------------------\n",
      "tensor([0., 1., 2.])\n"
     ]
    }
   ],
   "source": [
    "if True:\n",
    "    # （1）基本用法\n",
    "    a = torch.tensor([1.0, 10.0, 100.0])\n",
    "    result = torch.log10(a)\n",
    "    print(result)\n",
    "    print('-'*100)\n",
    "\n",
    "    # （2）使用out参数\n",
    "    output = torch.empty(3)\n",
    "    torch.log10(a, out=output)\n",
    "    print(output)"
   ]
  },
  {
   "cell_type": "markdown",
   "metadata": {},
   "source": [
    "### 2.2.3 `torch.log2(input, out=None)`"
   ]
  },
  {
   "cell_type": "markdown",
   "metadata": {},
   "source": [
    "功能：计算张量中每个元素以 2 为底的对数的函数"
   ]
  },
  {
   "cell_type": "code",
   "execution_count": 962,
   "metadata": {},
   "outputs": [
    {
     "name": "stdout",
     "output_type": "stream",
     "text": [
      "tensor([0., 1., 3.])\n",
      "----------------------------------------------------------------------------------------------------\n",
      "tensor([0., 1., 3.])\n"
     ]
    }
   ],
   "source": [
    "if True:\n",
    "    # （1）基本用法\n",
    "    a = torch.tensor([1.0, 2.0, 8.0])\n",
    "    result = torch.log2(a)\n",
    "    print(result)\n",
    "    print('-'*100)\n",
    "\n",
    "    # （2）使用out参数\n",
    "    output = torch.empty(3)\n",
    "    torch.log2(a, out=output)\n",
    "    print(output)"
   ]
  },
  {
   "cell_type": "markdown",
   "metadata": {},
   "source": [
    "### 2.2.4 `torch.exp(input, out=None)`"
   ]
  },
  {
   "cell_type": "markdown",
   "metadata": {},
   "source": [
    "功能：计算张量中每个元素的指数值的函数"
   ]
  },
  {
   "cell_type": "code",
   "execution_count": 963,
   "metadata": {},
   "outputs": [
    {
     "name": "stdout",
     "output_type": "stream",
     "text": [
      "tensor([1.0000, 2.7183, 7.3891])\n",
      "----------------------------------------------------------------------------------------------------\n",
      "tensor([1.0000, 2.7183, 7.3891])\n"
     ]
    }
   ],
   "source": [
    "if True:\n",
    "    # （1）基本用法\n",
    "    a = torch.tensor([0.0, 1.0, 2.0])\n",
    "    result = torch.exp(a)\n",
    "    print(result)\n",
    "    print('-'*100)\n",
    "\n",
    "    # (2）使用out参数\n",
    "    output = torch.empty(3)\n",
    "    torch.exp(a, out=output)\n",
    "    print(output)"
   ]
  },
  {
   "cell_type": "markdown",
   "metadata": {},
   "source": [
    "### 2.2.5 `torch.pow()`"
   ]
  },
  {
   "cell_type": "markdown",
   "metadata": {},
   "source": [
    "功能：计算张量中每个元素的幂次方的函数"
   ]
  },
  {
   "cell_type": "code",
   "execution_count": 964,
   "metadata": {},
   "outputs": [
    {
     "name": "stdout",
     "output_type": "stream",
     "text": [
      "tensor([ 4,  9, 16])\n",
      "----------------------------------------------------------------------------------------------------\n",
      "tensor([8, 9, 4])\n",
      "----------------------------------------------------------------------------------------------------\n",
      "tensor([[  4,  27,   4],\n",
      "        [ 25, 216,   7]])\n"
     ]
    }
   ],
   "source": [
    "if True:\n",
    "    # （1）基本用法\n",
    "    # 张量与标量\n",
    "    a = torch.tensor([2, 3, 4])\n",
    "    result = torch.pow(a, 2)\n",
    "    print(result)\n",
    "    print('-'*100)\n",
    "\n",
    "    # 张量与张量\n",
    "    base = torch.tensor([2, 3, 4])\n",
    "    exponent = torch.tensor([3, 2, 1])\n",
    "    result1 = torch.pow(base, exponent)\n",
    "    print(result1)\n",
    "    print('-'*100)\n",
    "\n",
    "    # （2）广播机制\n",
    "    base2 = torch.tensor([[2, 3, 4], [5, 6, 7]])\n",
    "    exponent2 = torch.tensor([2, 3, 1])\n",
    "    result3 = torch.pow(base2, exponent2)\n",
    "    print(result3)"
   ]
  },
  {
   "cell_type": "markdown",
   "metadata": {},
   "source": [
    "## 2.3 三角函数"
   ]
  },
  {
   "cell_type": "markdown",
   "metadata": {},
   "source": [
    "### 2.3.1 `torch.abs(input, out=None)`"
   ]
  },
  {
   "cell_type": "markdown",
   "metadata": {},
   "source": [
    "### 2.3.2 `torch.acos(input, out=None)`"
   ]
  },
  {
   "cell_type": "markdown",
   "metadata": {},
   "source": [
    "### 2.3.3 `torch.cosh(input, out=None)`"
   ]
  },
  {
   "cell_type": "markdown",
   "metadata": {},
   "source": [
    "### 2.3.4 `torch.cos(input, out=None)`"
   ]
  },
  {
   "cell_type": "markdown",
   "metadata": {},
   "source": [
    "### 2.3.5 `torch.asin(input, out=None)`"
   ]
  },
  {
   "cell_type": "markdown",
   "metadata": {},
   "source": [
    "### 2.3.6 `torch.atan(input, out=None)`"
   ]
  },
  {
   "cell_type": "markdown",
   "metadata": {},
   "source": [
    "### 2.3.7 `torch.atan2(input, other, out=None)`"
   ]
  },
  {
   "cell_type": "markdown",
   "metadata": {},
   "source": [
    "# 三、线性回归"
   ]
  }
 ],
 "metadata": {
  "kernelspec": {
   "display_name": "base",
   "language": "python",
   "name": "python3"
  },
  "language_info": {
   "codemirror_mode": {
    "name": "ipython",
    "version": 3
   },
   "file_extension": ".py",
   "mimetype": "text/x-python",
   "name": "python",
   "nbconvert_exporter": "python",
   "pygments_lexer": "ipython3",
   "version": "3.11.7"
  }
 },
 "nbformat": 4,
 "nbformat_minor": 2
}
