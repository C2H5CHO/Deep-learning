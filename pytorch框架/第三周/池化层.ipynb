{
 "cells": [
  {
   "cell_type": "code",
   "execution_count": 4,
   "id": "636ee189",
   "metadata": {},
   "outputs": [],
   "source": [
    "import torch\n",
    "import torch.nn as nn"
   ]
  },
  {
   "cell_type": "markdown",
   "id": "649ef566",
   "metadata": {},
   "source": [
    "# 1、运算"
   ]
  },
  {
   "cell_type": "markdown",
   "id": "db23a56e",
   "metadata": {},
   "source": [
    "对信号进行**收集**并**总结**，类似水池收集水资源，因而得名池化层\n",
    "\n",
    "- 收集：多变少\n",
    "- 总结：最大值/平均值"
   ]
  },
  {
   "cell_type": "markdown",
   "id": "e822e9ac",
   "metadata": {},
   "source": [
    "# 2、`nn.MaxPool2d`"
   ]
  },
  {
   "cell_type": "code",
   "execution_count": 5,
   "id": "3d2b0580",
   "metadata": {},
   "outputs": [],
   "source": [
    "# nn.MaxPool2d(\n",
    "#     kernel_size,\n",
    "#     stride=None,\n",
    "#     padding=0,\n",
    "#     dilation=1,\n",
    "#     return_indices=False,\n",
    "#     ceil_mode=False,\n",
    "# )"
   ]
  },
  {
   "cell_type": "markdown",
   "id": "f17bf04c",
   "metadata": {},
   "source": [
    "功能：对二维信号（图像）进行最大值池化\n",
    "\n",
    "主要参数：\n",
    "\n",
    "- `kernel_size`：池化核大小\n",
    "- `stride`：步长\n",
    "- `padding`：填充\n",
    "- `dilation`：池化核间隔大小\n",
    "- `return_indices`：是否返回最大值索引\n",
    "- `ceil_mode`：是否向上取整\n",
    "\n",
    "尺寸计算：$H_{out} = \\left\\lfloor\\frac{H_{in} + 2\\times padding[0] - dilation[0] \\times ()}$"
   ]
  },
  {
   "cell_type": "markdown",
   "id": "5f4890ca",
   "metadata": {},
   "source": []
  }
 ],
 "metadata": {
  "kernelspec": {
   "display_name": "base",
   "language": "python",
   "name": "python3"
  },
  "language_info": {
   "codemirror_mode": {
    "name": "ipython",
    "version": 3
   },
   "file_extension": ".py",
   "mimetype": "text/x-python",
   "name": "python",
   "nbconvert_exporter": "python",
   "pygments_lexer": "ipython3",
   "version": "3.11.7"
  }
 },
 "nbformat": 4,
 "nbformat_minor": 5
}
