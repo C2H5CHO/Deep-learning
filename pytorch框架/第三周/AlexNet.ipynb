{
 "cells": [
  {
   "cell_type": "markdown",
   "id": "31d990ab",
   "metadata": {},
   "source": [
    "# 1、背景介绍"
   ]
  },
  {
   "cell_type": "markdown",
   "id": "3a26120c",
   "metadata": {},
   "source": [
    "2021年 AlextNet 以高出第二名10多个百分点的准确率获得 ImageNet 分类任务冠军，开创了卷积神经网络的新时代"
   ]
  },
  {
   "cell_type": "markdown",
   "id": "18c26d96",
   "metadata": {},
   "source": [
    "# 2、特点"
   ]
  },
  {
   "cell_type": "markdown",
   "id": "02c901b1",
   "metadata": {},
   "source": [
    "1. 采用 ReLU 激活函数：替换了 sigmoid 函数，减轻梯度消失的问题\n",
    "2. 采用 LRN（Local Response Normalization）：对数据进行归一化，抑制其对输出的影响，减轻梯度消失的问题\n",
    "3. 采用 Dropout：提高全连接层的鲁棒性，增加网络的泛化能力\n",
    "4. 采用 Data Augmentation：TenCrop 策略，色彩修改"
   ]
  }
 ],
 "metadata": {
  "language_info": {
   "name": "python"
  }
 },
 "nbformat": 4,
 "nbformat_minor": 5
}
