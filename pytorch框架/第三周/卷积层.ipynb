{
 "cells": [
  {
   "cell_type": "markdown",
   "id": "b7e57213",
   "metadata": {},
   "source": [
    "# 1、Convolution"
   ]
  },
  {
   "cell_type": "markdown",
   "id": "21009bc5",
   "metadata": {},
   "source": [
    "## 1.1 卷积操作"
   ]
  },
  {
   "cell_type": "markdown",
   "id": "e1ebdbd2",
   "metadata": {},
   "source": [
    "- 卷积运算：卷积核在输入信号（图像）上滑动，相应位置上进行**乘加**\n",
    "- 卷积核：又称为滤波器、过滤器，可认为是某种模式，某种特征"
   ]
  },
  {
   "cell_type": "markdown",
   "id": "ce65616c",
   "metadata": {},
   "source": [
    "## 1.2 卷积维度"
   ]
  },
  {
   "cell_type": "markdown",
   "id": "efa6e1dd",
   "metadata": {},
   "source": [
    "概念：一般情况下，卷积核在几个维度上滑动，就是几维卷积"
   ]
  },
  {
   "cell_type": "markdown",
   "id": "6967becc",
   "metadata": {},
   "source": [
    "# 2、`nn.Conv2d`"
   ]
  },
  {
   "cell_type": "code",
   "execution_count": 29,
   "id": "e828b04a",
   "metadata": {},
   "outputs": [],
   "source": [
    "# nn.Conv2d(\n",
    "#     in_channels,\n",
    "#     out_channels,\n",
    "#     kernel_size,\n",
    "#     stride=1,\n",
    "#     padding=0,\n",
    "#     dilation=1,\n",
    "#     groups=1,\n",
    "#     bias=True,\n",
    "#     padding_mode='zeros'\n",
    "# )"
   ]
  },
  {
   "cell_type": "markdown",
   "id": "bd5ef9fc",
   "metadata": {},
   "source": [
    "功能：对多个二维信号进行二维卷积\n",
    "\n",
    "主要参数：\n",
    "- `in_channels`：输入通道数\n",
    "- `out_channels`：输出通道数，等价于卷积核个数\n",
    "- `kernel_size`：卷积核尺寸\n",
    "- `stride`：步长\n",
    "- `padding`：填充个数\n",
    "- `dilation`：空洞卷积大小\n",
    "- `groups`：分组卷积设置，默认为1，即不分组\n",
    "- `bias`：是否使用偏置\n",
    "\n",
    "尺寸计算：\n",
    "$H_{out} = \\lfloor \\frac{H_{in} + 2 \\times padding[0] - dilation[0] \\times (kernel\\_size[0] - 1) - 1}{stride[0]} + 1 \\rfloor$"
   ]
  },
  {
   "cell_type": "markdown",
   "id": "8998462f",
   "metadata": {},
   "source": [
    "# 3、`nn.ConvTranspose`"
   ]
  },
  {
   "cell_type": "code",
   "execution_count": 30,
   "id": "a6fe5bb9",
   "metadata": {},
   "outputs": [],
   "source": [
    "# nn.ConvTranspose(\n",
    "#     in_channels,\n",
    "#     out_channels,\n",
    "#     kernel_size,\n",
    "#     stride=1,\n",
    "#     padding=0,\n",
    "#     output_padding=0,\n",
    "#     groups=1,\n",
    "#     bias=True,\n",
    "#     dilation=1,\n",
    "#     padding_mode='zeros'\n",
    "# )"
   ]
  },
  {
   "cell_type": "markdown",
   "id": "6646e8ca",
   "metadata": {},
   "source": [
    "功能：用于对图像进行上采样\n",
    "\n",
    "对比：\n",
    "\n",
    "1. **正常卷积**：假设图像尺寸为4×4，卷积核为3×3，padding=0，stride=1，\n",
    "   则图像：$I_{16*1}$，卷积核：$K_{4*16}$，输出：$O_{4*1}=K_{4*16}×I_{16*1}$\n",
    "2. **转置卷积**：假设图像尺寸为2×2，卷积核为3×3，padding=0，stride=1，\n",
    "   则图像：$I_{4*1}$，卷积核：$K_{16*4}$，输出：$O_{16*1}=K_{16*4}×I_{4*1}$\n",
    "\n",
    "主要参数：\n",
    "\n",
    "- `in_channels`：输入通道数\n",
    "- `out_channels`：输出通道数\n",
    "- `kernel_size`：卷积核大小\n",
    "- `stride`：步长\n",
    "- `padding`：填充\n",
    "- `dilation`：空洞卷积大小\n",
    "- `groups`：分组卷积\n",
    "- `bias`：是否使用偏置\n",
    "\n",
    "尺寸计算：$H_{out} = (H_{in} - 1) \\times stride[0] - 2 \\times padding[0] + dilation[0] \\times (kernel\\_size[0] - 1) + output\\_padding[0] + 1$"
   ]
  }
 ],
 "metadata": {
  "kernelspec": {
   "display_name": "base",
   "language": "python",
   "name": "python3"
  },
  "language_info": {
   "codemirror_mode": {
    "name": "ipython",
    "version": 3
   },
   "file_extension": ".py",
   "mimetype": "text/x-python",
   "name": "python",
   "nbconvert_exporter": "python",
   "pygments_lexer": "ipython3",
   "version": "3.11.7"
  }
 },
 "nbformat": 4,
 "nbformat_minor": 5
}
