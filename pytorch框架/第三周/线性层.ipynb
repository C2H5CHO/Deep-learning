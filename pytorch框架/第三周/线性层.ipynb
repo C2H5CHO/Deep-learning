{
 "cells": [
  {
   "cell_type": "code",
   "execution_count": 3,
   "id": "ebb54841",
   "metadata": {},
   "outputs": [],
   "source": [
    "import torch\n",
    "import torch.nn as nn"
   ]
  },
  {
   "cell_type": "markdown",
   "id": "2e9b34a8",
   "metadata": {},
   "source": [
    "# 1、概念"
   ]
  },
  {
   "cell_type": "markdown",
   "id": "0cb52a95",
   "metadata": {},
   "source": [
    "又称线性层，其每个神经元与上一层所有神经元相连实现对前一层的线性组合，线性变换"
   ]
  },
  {
   "cell_type": "markdown",
   "id": "396b3520",
   "metadata": {},
   "source": [
    "# 2、`nn.Linear`"
   ]
  },
  {
   "cell_type": "code",
   "execution_count": 4,
   "id": "e4d05965",
   "metadata": {},
   "outputs": [],
   "source": [
    "# nn.Linear(\n",
    "#     in_features,\n",
    "#     out_features,\n",
    "#     bias=True\n",
    "# )"
   ]
  },
  {
   "cell_type": "markdown",
   "id": "088525d2",
   "metadata": {},
   "source": [
    "功能：对一维信号（向量）进行线性组合\n",
    "\n",
    "主要参数：\n",
    "\n",
    "- `in_features`：输入结点数\n",
    "- `out_features`：输出结点数\n",
    "- `bias`：是否使用偏置\n",
    "\n",
    "计算公式：$y = xW^T + bias$"
   ]
  }
 ],
 "metadata": {
  "kernelspec": {
   "display_name": "base",
   "language": "python",
   "name": "python3"
  },
  "language_info": {
   "codemirror_mode": {
    "name": "ipython",
    "version": 3
   },
   "file_extension": ".py",
   "mimetype": "text/x-python",
   "name": "python",
   "nbconvert_exporter": "python",
   "pygments_lexer": "ipython3",
   "version": "3.11.7"
  }
 },
 "nbformat": 4,
 "nbformat_minor": 5
}
