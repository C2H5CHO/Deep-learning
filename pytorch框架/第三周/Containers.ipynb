{
 "cells": [
  {
   "cell_type": "markdown",
   "id": "31f8e0b4",
   "metadata": {},
   "source": [
    "# 1、三大容器"
   ]
  },
  {
   "cell_type": "markdown",
   "id": "1c22b994",
   "metadata": {},
   "source": [
    "- `nn.Sequential`：按顺序包装多个网络层\n",
    "- `nn.ModuleList`：像 Python 中的 list 一样包装多个网络层\n",
    "- `nn.ModuleDict`：像 Python 中的 dict 一样包装多个网络层"
   ]
  },
  {
   "cell_type": "markdown",
   "id": "891f6c5c",
   "metadata": {},
   "source": [
    "## 1.1 `Sequential`"
   ]
  },
  {
   "cell_type": "markdown",
   "id": "4a8fe15e",
   "metadata": {},
   "source": [
    "## 1.1.1 概念"
   ]
  },
  {
   "cell_type": "markdown",
   "id": "f689ad1f",
   "metadata": {},
   "source": [
    "`nn.Sequential` 是 `nn.Module` 的容器，用于按顺序包装一组网络层"
   ]
  },
  {
   "cell_type": "markdown",
   "id": "2ffafe99",
   "metadata": {},
   "source": [
    "### 1.1.2 特征"
   ]
  },
  {
   "cell_type": "markdown",
   "id": "1df55d6d",
   "metadata": {},
   "source": [
    "- 顺序性：各网络层之间严格按照顺序构建\n",
    "- 自带 forward()：自带的 forward 里，通过 for 循环依次执行前向传播运算"
   ]
  },
  {
   "cell_type": "markdown",
   "id": "397b2d7b",
   "metadata": {},
   "source": [
    "## 1.2 `ModuleList`"
   ]
  },
  {
   "cell_type": "markdown",
   "id": "e1e4f9bb",
   "metadata": {},
   "source": [
    "### 1.2.1 概念"
   ]
  },
  {
   "cell_type": "markdown",
   "id": "43545147",
   "metadata": {},
   "source": [
    "`nn.ModuleList`是 `nn.module` 的一个容器，用于包装一组网络层，以迭代的方式调用网络层"
   ]
  },
  {
   "cell_type": "markdown",
   "id": "55617d7a",
   "metadata": {},
   "source": [
    "### 1.2.2 主要方法"
   ]
  },
  {
   "cell_type": "markdown",
   "id": "848fb948",
   "metadata": {},
   "source": [
    "- `append()`：在 ModuleList 后面添加网络层\n",
    "- `extend()`：拼接两个 ModuleList\n",
    "- `insert()`：指定在 ModuleList 中某个位置插入网络层"
   ]
  },
  {
   "cell_type": "markdown",
   "id": "3855e5e1",
   "metadata": {},
   "source": [
    "## 1.3 `ModuleDict`"
   ]
  },
  {
   "cell_type": "markdown",
   "id": "02e6f6b1",
   "metadata": {},
   "source": [
    "### 1.3.1 概念"
   ]
  },
  {
   "cell_type": "markdown",
   "id": "37e04e8d",
   "metadata": {},
   "source": [
    "`nn.ModuleDict`是 `nn.module`的容器，用于包装一组网络层，以索引方式调用网络层"
   ]
  },
  {
   "cell_type": "markdown",
   "id": "85e1d4ee",
   "metadata": {},
   "source": [
    "### 1.3.2 主要方法"
   ]
  },
  {
   "cell_type": "markdown",
   "id": "0be45cda",
   "metadata": {},
   "source": [
    "- `clear()`：清空 ModuleDict\n",
    "- `items()`：返回可迭代的键值对（key-value pairs）\n",
    "- `keys()`：返回字典的键（key）\n",
    "- `values()`：返回字典的值（value）\n",
    "- `pop()`：返回一组键值对并从字典中删除"
   ]
  },
  {
   "cell_type": "markdown",
   "id": "a18cfb72",
   "metadata": {},
   "source": [
    "## 1.4 小结"
   ]
  },
  {
   "cell_type": "markdown",
   "id": "a6c51fdf",
   "metadata": {},
   "source": [
    "- `nn.Sequential`：**顺序性**，各网络层之间严格按照顺序执行，常用于 block 构建\n",
    "- `nn.ModuleList`：**迭代性**，常用于大量重复网络构建，通过 for 循环实现重复构建\n",
    "- `nn.ModuleDict`：**字典性**，常用于可选择的网络层构建"
   ]
  }
 ],
 "metadata": {
  "kernelspec": {
   "display_name": "base",
   "language": "python",
   "name": "python3"
  },
  "language_info": {
   "name": "python",
   "version": "3.11.7"
  }
 },
 "nbformat": 4,
 "nbformat_minor": 5
}
