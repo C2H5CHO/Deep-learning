{
 "cells": [
  {
   "cell_type": "code",
   "execution_count": 11,
   "id": "1aef75ed",
   "metadata": {},
   "outputs": [],
   "source": [
    "import torch\n",
    "import torch.nn as nn"
   ]
  },
  {
   "cell_type": "markdown",
   "id": "d1442c4c",
   "metadata": {},
   "source": [
    "# 1、概念"
   ]
  },
  {
   "cell_type": "markdown",
   "id": "4c760428",
   "metadata": {},
   "source": [
    "激活函数对特征进行非线性变换，赋予多层神经网络具有深度的意义"
   ]
  },
  {
   "cell_type": "markdown",
   "id": "3a83f1f3",
   "metadata": {},
   "source": [
    "# 2、`nn.Sigmoid`"
   ]
  },
  {
   "cell_type": "markdown",
   "id": "724d8930",
   "metadata": {},
   "source": [
    "计算公式：$y = \\frac{1}{1 + e^{-x}}$\n",
    "\n",
    "梯度公式：$y^{`} = y \\times (1 - y)$\n",
    "\n",
    "特性：\n",
    "\n",
    "- 输出值在(0, 1)，符合概率\n",
    "- 导数范围是[0, 0.25]，易导致梯度消失\n",
    "- 输出为非0，破坏数据分布"
   ]
  },
  {
   "cell_type": "markdown",
   "id": "5009568b",
   "metadata": {},
   "source": [
    "# 3、`nn.tanh`"
   ]
  },
  {
   "cell_type": "markdown",
   "id": "03c50f5e",
   "metadata": {},
   "source": [
    "计算公式：$y = \\frac{sinx}{cosx} = \\frac{e^x - e^{-x}}{e^{-} + e^{-x}} = \\frac{2}{1 + e^{-2x}} + 1$\n",
    "\n",
    "梯度公式：$y^{`} = 1 - y^2$\n",
    "\n",
    "特性：\n",
    "\n",
    "- 输出值在(-1, 1)，数据符合0均值\n",
    "- 导数范围是(0, 1)，易导致梯度消失"
   ]
  },
  {
   "cell_type": "markdown",
   "id": "4921e98e",
   "metadata": {},
   "source": [
    "# 4、`nn.ReLU`"
   ]
  },
  {
   "cell_type": "markdown",
   "id": "6d66e45f",
   "metadata": {},
   "source": [
    "计算公式：$y = max(0, x)$\n",
    "\n",
    "梯度公式：\n",
    "$$\n",
    "y' = \\begin{cases} \n",
    "1, & x > 0 \\\\ \n",
    "\\text{undefined}, & x = 0 \\\\ \n",
    "0, & x < 0 \n",
    "\\end{cases}\n",
    "$$\n",
    "\n",
    "特性：\n",
    "\n",
    "- 输出值均为正数，负半轴导致死神经元\n",
    "- 导数是1，缓解梯度消失，但易引发梯度爆炸"
   ]
  },
  {
   "cell_type": "markdown",
   "id": "cb7ce5b9",
   "metadata": {},
   "source": [
    "## 4.1 `nn.LeakuReLU`"
   ]
  },
  {
   "cell_type": "markdown",
   "id": "ca03bf3b",
   "metadata": {},
   "source": [
    "- `negative_slope`: 负斜率的值，默认为0.01，即负斜率"
   ]
  },
  {
   "cell_type": "markdown",
   "id": "10326380",
   "metadata": {},
   "source": [
    "## 4.2 `nn.PReLU`"
   ]
  },
  {
   "cell_type": "markdown",
   "id": "af52880b",
   "metadata": {},
   "source": [
    "- `init`：可学习斜率"
   ]
  },
  {
   "cell_type": "markdown",
   "id": "cc65d975",
   "metadata": {},
   "source": [
    "## 4.3 `nn.RReLU`"
   ]
  },
  {
   "cell_type": "markdown",
   "id": "509d3a9a",
   "metadata": {},
   "source": [
    "- `lower`：均匀分布下限\n",
    "- `upper`：均匀分布上限"
   ]
  }
 ],
 "metadata": {
  "kernelspec": {
   "display_name": "base",
   "language": "python",
   "name": "python3"
  },
  "language_info": {
   "codemirror_mode": {
    "name": "ipython",
    "version": 3
   },
   "file_extension": ".py",
   "mimetype": "text/x-python",
   "name": "python",
   "nbconvert_exporter": "python",
   "pygments_lexer": "ipython3",
   "version": "3.11.7"
  }
 },
 "nbformat": 4,
 "nbformat_minor": 5
}
