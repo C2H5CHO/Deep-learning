{
 "cells": [
  {
   "cell_type": "code",
   "execution_count": 47,
   "id": "a34ecfec",
   "metadata": {},
   "outputs": [],
   "source": [
    "import torch\n",
    "import torchvision.transforms as transforms"
   ]
  },
  {
   "cell_type": "markdown",
   "id": "ae2b5e8e",
   "metadata": {},
   "source": [
    "# 1、基本概念"
   ]
  },
  {
   "cell_type": "markdown",
   "id": "260e48e0",
   "metadata": {},
   "source": [
    "数据增强，又称为数据增广、数据扩增，是对训练集进行变换，使训练集更丰富，从而让模型更具泛化能力"
   ]
  },
  {
   "cell_type": "markdown",
   "id": "67dd7e63",
   "metadata": {},
   "source": [
    "# 2、裁剪——`Crop`"
   ]
  },
  {
   "cell_type": "markdown",
   "id": "3d08a09c",
   "metadata": {},
   "source": [
    "## 2.1 `transforms.CenterCrop`"
   ]
  },
  {
   "cell_type": "markdown",
   "id": "eb2c6fd0",
   "metadata": {},
   "source": [
    "功能：从图像中心裁剪图片\n",
    "\n",
    "- `size`：所需裁剪图片尺寸"
   ]
  },
  {
   "cell_type": "markdown",
   "id": "43c3f947",
   "metadata": {},
   "source": [
    "## 2.2 `transforms.RandomCrop`"
   ]
  },
  {
   "cell_type": "code",
   "execution_count": 48,
   "id": "2a03d73d",
   "metadata": {},
   "outputs": [],
   "source": [
    "# transforms.RandomCrop(\n",
    "#     size,\n",
    "#     padding=None,\n",
    "#     pad_if_needed=False,\n",
    "#     fill=0,\n",
    "#     padding_mode='constant',\n",
    "# )"
   ]
  },
  {
   "cell_type": "markdown",
   "id": "29a06a98",
   "metadata": {},
   "source": [
    "功能：从图片中随机裁剪出尺寸为size的图片\n",
    "\n",
    "- `size`：所需裁剪图片尺寸\n",
    "- `padding`：设置填充大小\n",
    "    - 为 a 时，上下左右均填充a个像素\n",
    "    - 为 (a, b) 时，上下填充b个像素，左右填充a个像素\n",
    "    - 为 (a, b, c, d) 时，左、上、右、下分别填充a，b，c，d\n",
    "- `pad_if_need`：若图像小于设定size，则填充\n",
    "- `padding_mode`：填充模式，有4种模式\n",
    "    1. 'constant'：像素值由fill设定\n",
    "    2. 'edge'：像素值由图像边缘像素决定\n",
    "    3. 'reflect'：镜像填充，最后一个像素不镜像\n",
    "    4. 'symmetric'：镜像填充，最后一个像素要镜像\n",
    "- `fill`：为'constant'时，设置填充的像素值"
   ]
  },
  {
   "cell_type": "markdown",
   "id": "bbc820d6",
   "metadata": {},
   "source": [
    "## 2.3 `RandomResizedCrop`"
   ]
  },
  {
   "cell_type": "code",
   "execution_count": 49,
   "id": "2fab4b80",
   "metadata": {},
   "outputs": [],
   "source": [
    "# transforms.RandomResizedCrop(\n",
    "#     size,\n",
    "#     scale=(0.08, 1.0),\n",
    "#     ratio=(3/4, 3/4),\n",
    "#     interpolation\n",
    "# )"
   ]
  },
  {
   "cell_type": "markdown",
   "id": "40fce0a3",
   "metadata": {},
   "source": [
    "功能：随机大小、长宽比裁剪图片\n",
    "\n",
    "- `size`：所需裁剪图片尺寸\n",
    "- `scale`：随机裁剪面积比例，默认为(0.08, 1.0)\n",
    "- `ratio`：随机长宽比，默认为(3/4, 4/3)\n",
    "- `interpolation`：插值方式，默认为`PIL.Image.BILINEAR`\n",
    "    - PIL.Image.NEAREST：最近邻插值\n",
    "    - PIL.Image.BILINEAR：双线性插值\n",
    "    - PIL.Image.BICUBIC：三次样条插值\n",
    "    - PIL.Image.LANCZOS：兰索斯插值\n",
    "    - PIL.Image.HAMMING：汉明插值\n",
    "    - PIL.Image.BOX：盒插值"
   ]
  },
  {
   "cell_type": "markdown",
   "id": "b1f5e509",
   "metadata": {},
   "source": [
    "## 2.4 `FiveCrop`"
   ]
  },
  {
   "cell_type": "code",
   "execution_count": 50,
   "id": "28df8887",
   "metadata": {},
   "outputs": [],
   "source": [
    "# transforms.FiveCrop(\n",
    "#     size\n",
    "# )"
   ]
  },
  {
   "cell_type": "markdown",
   "id": "8aa12577",
   "metadata": {},
   "source": [
    "## 2.5 `TenCrop`"
   ]
  },
  {
   "cell_type": "code",
   "execution_count": 51,
   "id": "9dcecca2",
   "metadata": {},
   "outputs": [],
   "source": [
    "# transforms.TenCrop(\n",
    "#     size,\n",
    "#     vertical_flip=False,\n",
    "# )"
   ]
  },
  {
   "cell_type": "markdown",
   "id": "43edb647",
   "metadata": {},
   "source": [
    "功能：在图像的上下左右以及中心裁剪出尺寸为size的5张图片，TenCrop对5张图片进行水平或垂直镜像获得10张图片\n",
    "\n",
    "- `size`：所需裁剪图片的尺寸\n",
    "- `vertical_flip`：是否进行垂直镜像"
   ]
  },
  {
   "cell_type": "markdown",
   "id": "2591ee79",
   "metadata": {},
   "source": [
    "# 3、翻转——`Flip`"
   ]
  },
  {
   "cell_type": "markdown",
   "id": "501a2515",
   "metadata": {},
   "source": [
    "## 3.1 `RandomHorizontalFlip`"
   ]
  },
  {
   "cell_type": "code",
   "execution_count": 52,
   "id": "41c54c2d",
   "metadata": {},
   "outputs": [],
   "source": [
    "# transforms.RandomHorizontalFlip(\n",
    "#     p=0.5\n",
    "# )"
   ]
  },
  {
   "cell_type": "markdown",
   "id": "6d9ea889",
   "metadata": {},
   "source": [
    "## 3.2 `RandomVerticalFlip`"
   ]
  },
  {
   "cell_type": "code",
   "execution_count": 53,
   "id": "7f1608c9",
   "metadata": {},
   "outputs": [],
   "source": [
    "# transforms.RandomVerticalFlip(\n",
    "#     p=0.5\n",
    "# )"
   ]
  },
  {
   "cell_type": "markdown",
   "id": "c32d5412",
   "metadata": {},
   "source": [
    "功能：依概率水平（左右）或垂直（上下）翻转图片\n",
    "\n",
    "- `p`：翻转概率，默认为0.5"
   ]
  },
  {
   "cell_type": "markdown",
   "id": "0372619d",
   "metadata": {},
   "source": [
    "## 3.3 `RandomRotation`"
   ]
  },
  {
   "cell_type": "code",
   "execution_count": 54,
   "id": "140fa94f",
   "metadata": {},
   "outputs": [],
   "source": [
    "# transforms.RandomRotation(\n",
    "#     degrees,\n",
    "#     resample=False,\n",
    "#     expand=False,\n",
    "#     center=None\n",
    "# )"
   ]
  },
  {
   "cell_type": "markdown",
   "id": "a098012e",
   "metadata": {},
   "source": [
    "功能：随机翻转图片\n",
    "\n",
    "- `degree`：旋转角度\n",
    "    - 为 a 时，在(-a, a)之间选择旋转角度\n",
    "    - 为 (a, b) 时，在(a, b)之间选择旋转角度\n",
    "- `resample`：重采样方法\n",
    "- `expand`：是否扩大图片，以保持原图信息\n",
    "- `center`：旋转点设置，默认图像中心"
   ]
  },
  {
   "cell_type": "markdown",
   "id": "a56d660f",
   "metadata": {},
   "source": [
    "# 4、图像变换"
   ]
  },
  {
   "cell_type": "markdown",
   "id": "9fecda76",
   "metadata": {},
   "source": [
    "## 4.1 `Pad`"
   ]
  }
 ],
 "metadata": {
  "kernelspec": {
   "display_name": "Python 3",
   "language": "python",
   "name": "python3"
  },
  "language_info": {
   "codemirror_mode": {
    "name": "ipython",
    "version": 3
   },
   "file_extension": ".py",
   "mimetype": "text/x-python",
   "name": "python",
   "nbconvert_exporter": "python",
   "pygments_lexer": "ipython3",
   "version": "3.12.9"
  }
 },
 "nbformat": 4,
 "nbformat_minor": 5
}
