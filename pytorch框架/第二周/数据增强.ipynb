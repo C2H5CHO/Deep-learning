{
 "cells": [
  {
   "cell_type": "code",
   "execution_count": 324,
   "id": "a34ecfec",
   "metadata": {},
   "outputs": [],
   "source": [
    "import torch\n",
    "import torchvision.transforms as transforms"
   ]
  },
  {
   "cell_type": "markdown",
   "id": "ae2b5e8e",
   "metadata": {},
   "source": [
    "# 1、基本概念"
   ]
  },
  {
   "cell_type": "markdown",
   "id": "260e48e0",
   "metadata": {},
   "source": [
    "数据增强，又称为数据增广、数据扩增，是对训练集进行变换，使训练集更丰富，从而让模型更具泛化能力"
   ]
  },
  {
   "cell_type": "markdown",
   "id": "67dd7e63",
   "metadata": {},
   "source": [
    "# 2、裁剪--`Crop`"
   ]
  },
  {
   "cell_type": "markdown",
   "id": "3d08a09c",
   "metadata": {},
   "source": [
    "## 2.1 `transforms.CenterCrop`"
   ]
  },
  {
   "cell_type": "markdown",
   "id": "eb2c6fd0",
   "metadata": {},
   "source": [
    "功能：从图像中心裁剪图片\n",
    "\n",
    "- `size`：所需裁剪图片尺寸"
   ]
  },
  {
   "cell_type": "markdown",
   "id": "43c3f947",
   "metadata": {},
   "source": [
    "## 2.2 `transforms.RandomCrop`"
   ]
  },
  {
   "cell_type": "code",
   "execution_count": 325,
   "id": "2a03d73d",
   "metadata": {},
   "outputs": [],
   "source": [
    "# transforms.RandomCrop(\n",
    "#     size,\n",
    "#     padding=None,\n",
    "#     pad_if_needed=False,\n",
    "#     fill=0,\n",
    "#     padding_mode='constant',\n",
    "# )"
   ]
  },
  {
   "cell_type": "markdown",
   "id": "29a06a98",
   "metadata": {},
   "source": [
    "功能：从图片中随机裁剪出尺寸为size的图片\n",
    "\n",
    "- `size`：所需裁剪图片尺寸\n",
    "- `padding`：设置填充大小\n",
    "    - 为 a 时，上下左右均填充a个像素\n",
    "    - 为 (a, b) 时，上下填充b个像素，左右填充a个像素\n",
    "    - 为 (a, b, c, d) 时，左、上、右、下分别填充a，b，c，d\n",
    "- `pad_if_need`：若图像小于设定size，则填充\n",
    "- `padding_mode`：填充模式，有4种模式\n",
    "    1. 'constant'：像素值由fill设定\n",
    "    2. 'edge'：像素值由图像边缘像素决定\n",
    "    3. 'reflect'：镜像填充，最后一个像素不镜像\n",
    "    4. 'symmetric'：镜像填充，最后一个像素要镜像\n",
    "- `fill`：为'constant'时，设置填充的像素值"
   ]
  },
  {
   "cell_type": "markdown",
   "id": "bbc820d6",
   "metadata": {},
   "source": [
    "## 2.3 `RandomResizedCrop`"
   ]
  },
  {
   "cell_type": "code",
   "execution_count": 326,
   "id": "2fab4b80",
   "metadata": {},
   "outputs": [],
   "source": [
    "# transforms.RandomResizedCrop(\n",
    "#     size,\n",
    "#     scale=(0.08, 1.0),\n",
    "#     ratio=(3/4, 3/4),\n",
    "#     interpolation\n",
    "# )"
   ]
  },
  {
   "cell_type": "markdown",
   "id": "40fce0a3",
   "metadata": {},
   "source": [
    "功能：随机大小、长宽比裁剪图片\n",
    "\n",
    "- `size`：所需裁剪图片尺寸\n",
    "- `scale`：随机裁剪面积比例，默认为(0.08, 1.0)\n",
    "- `ratio`：随机长宽比，默认为(3/4, 4/3)\n",
    "- `interpolation`：插值方式，默认为`PIL.Image.BILINEAR`\n",
    "    - PIL.Image.NEAREST：最近邻插值\n",
    "    - PIL.Image.BILINEAR：双线性插值\n",
    "    - PIL.Image.BICUBIC：三次样条插值\n",
    "    - PIL.Image.LANCZOS：兰索斯插值\n",
    "    - PIL.Image.HAMMING：汉明插值\n",
    "    - PIL.Image.BOX：盒插值"
   ]
  },
  {
   "cell_type": "markdown",
   "id": "b1f5e509",
   "metadata": {},
   "source": [
    "## 2.4 `FiveCrop`"
   ]
  },
  {
   "cell_type": "code",
   "execution_count": 327,
   "id": "28df8887",
   "metadata": {},
   "outputs": [],
   "source": [
    "# transforms.FiveCrop(\n",
    "#     size\n",
    "# )"
   ]
  },
  {
   "cell_type": "markdown",
   "id": "8aa12577",
   "metadata": {},
   "source": [
    "## 2.5 `TenCrop`"
   ]
  },
  {
   "cell_type": "code",
   "execution_count": 328,
   "id": "9dcecca2",
   "metadata": {},
   "outputs": [],
   "source": [
    "# transforms.TenCrop(\n",
    "#     size,\n",
    "#     vertical_flip=False,\n",
    "# )"
   ]
  },
  {
   "cell_type": "markdown",
   "id": "43edb647",
   "metadata": {},
   "source": [
    "功能：在图像的上下左右以及中心裁剪出尺寸为size的5张图片，TenCrop对5张图片进行水平或垂直镜像获得10张图片\n",
    "\n",
    "- `size`：所需裁剪图片的尺寸\n",
    "- `vertical_flip`：是否进行垂直镜像"
   ]
  },
  {
   "cell_type": "markdown",
   "id": "2591ee79",
   "metadata": {},
   "source": [
    "# 3、翻转--`Flip`"
   ]
  },
  {
   "cell_type": "markdown",
   "id": "501a2515",
   "metadata": {},
   "source": [
    "## 3.1 `RandomHorizontalFlip`"
   ]
  },
  {
   "cell_type": "code",
   "execution_count": 329,
   "id": "41c54c2d",
   "metadata": {},
   "outputs": [],
   "source": [
    "# transforms.RandomHorizontalFlip(\n",
    "#     p=0.5\n",
    "# )"
   ]
  },
  {
   "cell_type": "markdown",
   "id": "6d9ea889",
   "metadata": {},
   "source": [
    "## 3.2 `RandomVerticalFlip`"
   ]
  },
  {
   "cell_type": "code",
   "execution_count": 330,
   "id": "7f1608c9",
   "metadata": {},
   "outputs": [],
   "source": [
    "# transforms.RandomVerticalFlip(\n",
    "#     p=0.5\n",
    "# )"
   ]
  },
  {
   "cell_type": "markdown",
   "id": "c32d5412",
   "metadata": {},
   "source": [
    "功能：依概率水平（左右）或垂直（上下）翻转图片\n",
    "\n",
    "- `p`：翻转概率，默认为0.5"
   ]
  },
  {
   "cell_type": "markdown",
   "id": "0372619d",
   "metadata": {},
   "source": [
    "## 3.3 `RandomRotation`"
   ]
  },
  {
   "cell_type": "code",
   "execution_count": 331,
   "id": "140fa94f",
   "metadata": {},
   "outputs": [],
   "source": [
    "# transforms.RandomRotation(\n",
    "#     degrees,\n",
    "#     resample=False,\n",
    "#     expand=False,\n",
    "#     center=None\n",
    "# )"
   ]
  },
  {
   "cell_type": "markdown",
   "id": "a098012e",
   "metadata": {},
   "source": [
    "功能：随机翻转图片\n",
    "\n",
    "- `degree`：旋转角度\n",
    "    - 为 a 时，在(-a, a)之间选择旋转角度\n",
    "    - 为 (a, b) 时，在(a, b)之间选择旋转角度\n",
    "- `resample`：重采样方法\n",
    "- `expand`：是否扩大图片，以保持原图信息\n",
    "- `center`：旋转点设置，默认图像中心"
   ]
  },
  {
   "cell_type": "markdown",
   "id": "a56d660f",
   "metadata": {},
   "source": [
    "# 4、图像变换"
   ]
  },
  {
   "cell_type": "markdown",
   "id": "9fecda76",
   "metadata": {},
   "source": [
    "## 4.1 `Pad`"
   ]
  },
  {
   "cell_type": "code",
   "execution_count": 332,
   "id": "96a646e9",
   "metadata": {},
   "outputs": [],
   "source": [
    "# transforms.Pad(\n",
    "#     padding,\n",
    "#     fill=0,\n",
    "#     padding_mode='constant'\n",
    "# )"
   ]
  },
  {
   "cell_type": "markdown",
   "id": "f917c9db",
   "metadata": {},
   "source": [
    "功能：对图片边缘进行填充\n",
    "\n",
    "- `padding`：设置填充大小\n",
    "    - 为 a 时，上下左右均填充a个像素\n",
    "    - 为 (a, b) 时，上下填充a个像素，左右填充b个像素\n",
    "    - 为 (a, b, c, d) 时，分别填充上、下、左、右的a、b、c、d个像素\n",
    "- `padding_mode`：填充模式\n",
    "    - 'constant'：常数填充，即用常数值填充\n",
    "    - 'edge'：边缘填充，即边缘像素会被重复\n",
    "    -'reflect'：镜像填充，即边缘像素会被镜像到对称位置\n",
    "    - 'symmetric'：对称填充，即边缘像素会被镜像到对称位置，最后一个像素也会镜像\n",
    "- `fill`：为 constant 时，设置填充像素值，(R, G, B) 或者 (Gray)"
   ]
  },
  {
   "cell_type": "markdown",
   "id": "0775f42d",
   "metadata": {},
   "source": [
    "## 4.2 `ColorJitter`"
   ]
  },
  {
   "cell_type": "code",
   "execution_count": 333,
   "id": "633f40d8",
   "metadata": {},
   "outputs": [],
   "source": [
    "# transforms.ColorJitter(\n",
    "#     brightness=0,\n",
    "#     contrast=0,\n",
    "#     saturation=0,\n",
    "#     hue=0\n",
    "# )"
   ]
  },
  {
   "cell_type": "markdown",
   "id": "07117720",
   "metadata": {},
   "source": [
    "功能：调整亮度、对比度、饱和度和色相\n",
    "\n",
    "- `brightness`：亮度调整因子\n",
    "    - 为 a 时，从[max(0, 1-a), 1+a]中随机选择\n",
    "    - 为 (a, b)时，从[a, b]中随机选择\n",
    "- `constrast`：对比度参数，同brightness\n",
    "- `saturation`：饱和度参数，同brightness\n",
    "- `hue`：色相参数\n",
    "    - 为 a 时，从[-a, a]中随机选择，且a的取值范围为[0, 0.5]\n",
    "    - 为 (a, b)时，从[a, b]中随机选择，且a、b的取值范围为[0, 0.5]"
   ]
  },
  {
   "cell_type": "markdown",
   "id": "81384d4c",
   "metadata": {},
   "source": [
    "## 4.3 `GrayScale`"
   ]
  },
  {
   "cell_type": "code",
   "execution_count": 334,
   "id": "c73f9757",
   "metadata": {},
   "outputs": [],
   "source": [
    "# transforms.Grayscale(\n",
    "#     num_output_channels=1\n",
    "# )"
   ]
  },
  {
   "cell_type": "markdown",
   "id": "73d216b9",
   "metadata": {},
   "source": [
    "## 4.4 `RandomGradedCrop`"
   ]
  },
  {
   "cell_type": "code",
   "execution_count": 335,
   "id": "4b972346",
   "metadata": {},
   "outputs": [],
   "source": [
    "# transforms.RandomGrayscale(\n",
    "#     num_output_channels=1,\n",
    "#     p=0.1\n",
    "# )"
   ]
  },
  {
   "cell_type": "markdown",
   "id": "4e859757",
   "metadata": {},
   "source": [
    "功能：依概率将图片转换为灰度图\n",
    "\n",
    "- `num_output_channels`：输出通道数，1表示灰度图，3表示RGB彩色图\n",
    "- `p`：概率，0.5表示将图片转换为灰度图的概率为50%"
   ]
  },
  {
   "cell_type": "markdown",
   "id": "28a09491",
   "metadata": {},
   "source": [
    "## 4.5 `RandomAffine`"
   ]
  },
  {
   "cell_type": "code",
   "execution_count": 336,
   "id": "b51a84f6",
   "metadata": {},
   "outputs": [],
   "source": [
    "# transforms.RandomAffine(\n",
    "#     degrees,\n",
    "#     translate=None,\n",
    "#     scale=None,\n",
    "#     shear=None,\n",
    "#     resample=False,\n",
    "#     fillcolor=0\n",
    "# )"
   ]
  },
  {
   "cell_type": "markdown",
   "id": "862b277b",
   "metadata": {},
   "source": [
    "功能：对图像进行仿射变换，仿射变换是二维的线性变换，由五种基本原子变换构成，分别是旋转、平移、缩放、错切、剪切\n",
    "\n",
    "- `degrees`：旋转角度设置\n",
    "- `translate`：平移区间设置\n",
    "    - 为 (a, b) 时，表示x轴和y轴的平移范围均为[-a, b]\n",
    "    - 为 (a, b, c, d) 时，表示x轴平移范围为[-a, b]，y轴平移范围为[-c, d]\n",
    "- `scale`：缩放比例（以面积为单位）\n",
    "- `fillcolor`：填充色设置"
   ]
  },
  {
   "cell_type": "markdown",
   "id": "7218faec",
   "metadata": {},
   "source": [
    "## 4.6 `RandomErasing`"
   ]
  },
  {
   "cell_type": "code",
   "execution_count": 337,
   "id": "1ca59dfd",
   "metadata": {},
   "outputs": [],
   "source": [
    "# transforms.RandomErasing(\n",
    "#     p=0.5,\n",
    "#     scale=(0.02, 0.33),\n",
    "#     ratio=(0.3, 3.3),\n",
    "#     value=0,\n",
    "#     inplace=False\n",
    "# )"
   ]
  },
  {
   "cell_type": "markdown",
   "id": "aad7f99d",
   "metadata": {},
   "source": [
    "功能：对图像进行随机遮挡\n",
    "\n",
    "- `p`：概率值，执行该操作的概率\n",
    "- `scale`：遮挡区域的面积\n",
    "- `ratio`：遮挡区域长宽比\n",
    "- `value`：设置遮挡区域的像素值，(R, G, B) 或者 (Gray)，默认为0"
   ]
  },
  {
   "cell_type": "markdown",
   "id": "414c1827",
   "metadata": {},
   "source": [
    "## 4.7 `Lamdba`"
   ]
  },
  {
   "cell_type": "code",
   "execution_count": 338,
   "id": "02635ac3",
   "metadata": {},
   "outputs": [],
   "source": [
    "# transforms.Lambda(\n",
    "#     lambda\n",
    "# )"
   ]
  },
  {
   "cell_type": "markdown",
   "id": "43598b06",
   "metadata": {},
   "source": [
    "功能：用户自定义lambda方法\n",
    "\n",
    "- `lambda`：匿名函数，可以把函数作为参数传递给另一个函数"
   ]
  },
  {
   "cell_type": "markdown",
   "id": "d58e2d9a",
   "metadata": {},
   "source": [
    "# 5、选择"
   ]
  },
  {
   "cell_type": "markdown",
   "id": "35febb99",
   "metadata": {},
   "source": [
    "## 5.1 `transforms.RandomChoice`"
   ]
  },
  {
   "cell_type": "code",
   "execution_count": 339,
   "id": "2f3602cb",
   "metadata": {},
   "outputs": [],
   "source": [
    "# transforms.RandomChoice(\n",
    "#     [transforms1, transforms2, transforms3]\n",
    "# )"
   ]
  },
  {
   "cell_type": "markdown",
   "id": "5ecffb51",
   "metadata": {},
   "source": [
    "功能：从一系列transforms方法中随机挑选一个"
   ]
  },
  {
   "cell_type": "markdown",
   "id": "1f057f24",
   "metadata": {},
   "source": [
    "## 5.2 `transforms.RandomApply`"
   ]
  },
  {
   "cell_type": "code",
   "execution_count": 340,
   "id": "4d4ac3b5",
   "metadata": {},
   "outputs": [],
   "source": [
    "# transforms.RandomApply(\n",
    "#     [transforms1, transforms2, transforms3],\n",
    "#     p=0.5\n",
    "# )"
   ]
  },
  {
   "cell_type": "markdown",
   "id": "40ce693f",
   "metadata": {},
   "source": [
    "功能：依概率执行一组transforms操作"
   ]
  },
  {
   "cell_type": "markdown",
   "id": "3849cba4",
   "metadata": {},
   "source": [
    "## 5.3 `transforms.RandomOrder`"
   ]
  },
  {
   "cell_type": "code",
   "execution_count": 341,
   "id": "8cf184a4",
   "metadata": {},
   "outputs": [],
   "source": [
    "# transforms.RandomOrder(\n",
    "#     [transforms1, transforms2, transforms3]\n",
    "# )"
   ]
  },
  {
   "cell_type": "markdown",
   "id": "18d59423",
   "metadata": {},
   "source": [
    "功能：对一组transforms操作打乱顺序"
   ]
  },
  {
   "cell_type": "markdown",
   "id": "f2040fb7",
   "metadata": {},
   "source": [
    "# 6、自定义"
   ]
  },
  {
   "cell_type": "code",
   "execution_count": 342,
   "id": "375f6024",
   "metadata": {},
   "outputs": [],
   "source": [
    "# class Compose(object):\n",
    "#     def __call__(self, img):\n",
    "#         for t in self.transforms:\n",
    "#             img = t(img)\n",
    "#         return img"
   ]
  },
  {
   "cell_type": "markdown",
   "id": "e9e4e143",
   "metadata": {},
   "source": [
    "二要素：\n",
    "\n",
    "1. 仅接受一个参数，返回一个参数\n",
    "2. 注意上下游的输出与输入"
   ]
  },
  {
   "cell_type": "code",
   "execution_count": 343,
   "id": "517f6247",
   "metadata": {},
   "outputs": [],
   "source": [
    "# 通过继承类，实现多参数传入\n",
    "# class YourTransform(object):\n",
    "#     def __init__(self, ...):\n",
    "#         ...\n",
    "\n",
    "#     def __call__(self, img):\n",
    "#         ...\n",
    "#         return img"
   ]
  },
  {
   "cell_type": "markdown",
   "id": "d39cdf61",
   "metadata": {},
   "source": [
    "示例--椒盐噪声：\n",
    "\n",
    "1. 概念：椒盐噪声，又称脉冲噪声，是一种随机出现的白点或者黑点，白点称为盐噪声，黑点称为椒噪声。\n",
    "2. 产生原因：椒盐噪声的产生是由于光照不均匀导致的。光线经过物体时，某些部分会被吸收，而另一些部分会被反射，产生了椒噪声和盐噪声。椒噪声的大小与光照强度成正比，盐噪声的大小与物体表面粗糙度成正比。椒盐噪声的产生是随机的，并不是均匀分布的。\n",
    "3. 解决方法：椒盐噪声的解决方法有两种：一是采用白盒处理，即对图像进行预处理，去除椒盐噪声；二是采用白盒处理，采用数据增强的方法，对图像进行数据增强，增加椒盐噪声。\n",
    "4. **信噪比**：信噪比（SNR）是指信号与噪声的比值，即信噪比越高，则噪声的影响越小，信号的影响越大。信噪比越高，图像的质量越好。"
   ]
  },
  {
   "cell_type": "code",
   "execution_count": 344,
   "id": "e5f94abb",
   "metadata": {},
   "outputs": [],
   "source": [
    "# class AddPepperNoise(object):\n",
    "#     \"\"\"增加椒盐噪声\n",
    "#     Args:\n",
    "#         snr （float）: Signal Noise Rate\n",
    "#         p (float): 概率值，依概率执行该操作\n",
    "#     \"\"\"\n",
    "\n",
    "#     def __init__(self, snr, p=0.9):\n",
    "#         assert isinstance(snr, float) or (isinstance(p, float))\n",
    "#         self.snr = snr\n",
    "#         self.p = p\n",
    "\n",
    "#     def __call__(self, img):\n",
    "#         \"\"\"\n",
    "#         Args:\n",
    "#             img (PIL Image): PIL Image\n",
    "#         Returns:\n",
    "#             PIL Image: PIL image.\n",
    "#         \"\"\"\n",
    "#         if random.uniform(0, 1) < self.p:\n",
    "#             img_ = np.array(img).copy()\n",
    "#             h, w, c = img_.shape\n",
    "#             signal_pct = self.snr\n",
    "#             noise_pct = (1 - self.snr)\n",
    "#             mask = np.random.choice((0, 1, 2), size=(h, w, 1), p=[signal_pct, noise_pct/2., noise_pct/2.])\n",
    "#             mask = np.repeat(mask, c, axis=2)\n",
    "#             img_[mask == 1] = 255   # 盐噪声\n",
    "#             img_[mask == 2] = 0     # 椒噪声\n",
    "#             return Image.fromarray(img_.astype('uint8')).convert('RGB')\n",
    "#         else:\n",
    "#             return img"
   ]
  }
 ],
 "metadata": {
  "kernelspec": {
   "display_name": "Python 3",
   "language": "python",
   "name": "python3"
  },
  "language_info": {
   "codemirror_mode": {
    "name": "ipython",
    "version": 3
   },
   "file_extension": ".py",
   "mimetype": "text/x-python",
   "name": "python",
   "nbconvert_exporter": "python",
   "pygments_lexer": "ipython3",
   "version": "3.12.9"
  }
 },
 "nbformat": 4,
 "nbformat_minor": 5
}
