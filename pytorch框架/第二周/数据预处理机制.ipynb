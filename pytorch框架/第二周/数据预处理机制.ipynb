{
 "cells": [
  {
   "cell_type": "markdown",
   "id": "7a0372ed",
   "metadata": {},
   "source": [
    "# 1、`torchvision`"
   ]
  },
  {
   "cell_type": "markdown",
   "id": "dfe205fe",
   "metadata": {},
   "source": [
    "功能：计算机视觉工具包\n",
    "\n",
    "- `torchvision.transforms`：常用的图像预处理方法\n",
    "- `torchvision.datasets`：常用数据集的dataset实战，MINIST，CIFAR-10，ImageNet等\n",
    "- `torchvision.model`：常用的模型预训练，AlexNet，VGG，ResNet，GoogLeNet等"
   ]
  },
  {
   "cell_type": "markdown",
   "id": "721aa428",
   "metadata": {},
   "source": [
    "# 2、`transforms`"
   ]
  },
  {
   "cell_type": "markdown",
   "id": "69138f0c",
   "metadata": {},
   "source": [
    "## 2.1 常用图像预处理方法"
   ]
  },
  {
   "cell_type": "markdown",
   "id": "6dae01f9",
   "metadata": {},
   "source": [
    "- 数据中心化\n",
    "- 数据标准化\n",
    "- 缩放\n",
    "- 裁剪\n",
    "- 旋转\n",
    "- 翻转\n",
    "- 填充\n",
    "- 噪声添加\n",
    "- 灰度变换\n",
    "- 线性变换\n",
    "- 仿射变换\n",
    "- 亮度、饱和度及对比度变换"
   ]
  },
  {
   "cell_type": "markdown",
   "id": "6a05e6ba",
   "metadata": {},
   "source": [
    "## 2.2 `transforms.Normalize`"
   ]
  },
  {
   "cell_type": "code",
   "execution_count": 1,
   "id": "854f8c5d",
   "metadata": {},
   "outputs": [],
   "source": [
    "# transforms.Normalize(\n",
    "#     mean,\n",
    "#     std,\n",
    "#     inplace=False,\n",
    "# )"
   ]
  },
  {
   "cell_type": "markdown",
   "id": "bff90fff",
   "metadata": {},
   "source": [
    "功能：逐channel的对图像进行标准化\n",
    "\n",
    "公式：$output = (input - mean) / std$\n",
    "\n",
    "- `mean`：各通道的均值\n",
    "- `std`：各通道的标准差\n",
    "- `inplace`：是否原地操作"
   ]
  }
 ],
 "metadata": {
  "kernelspec": {
   "display_name": "Python 3",
   "language": "python",
   "name": "python3"
  },
  "language_info": {
   "codemirror_mode": {
    "name": "ipython",
    "version": 3
   },
   "file_extension": ".py",
   "mimetype": "text/x-python",
   "name": "python",
   "nbconvert_exporter": "python",
   "pygments_lexer": "ipython3",
   "version": "3.12.9"
  }
 },
 "nbformat": 4,
 "nbformat_minor": 5
}
