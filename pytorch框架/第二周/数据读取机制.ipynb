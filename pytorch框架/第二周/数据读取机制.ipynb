{
 "cells": [
  {
   "cell_type": "code",
   "execution_count": 2,
   "metadata": {},
   "outputs": [],
   "source": [
    "import torch"
   ]
  },
  {
   "cell_type": "markdown",
   "metadata": {},
   "source": [
    "# 1、`DataLoader`"
   ]
  },
  {
   "cell_type": "code",
   "execution_count": null,
   "metadata": {},
   "outputs": [
    {
     "data": {
      "text/plain": [
       "<module 'torch.utils' from 'C:\\\\Users\\\\olle\\\\AppData\\\\Local\\\\Packages\\\\PythonSoftwareFoundation.Python.3.12_qbz5n2kfra8p0\\\\LocalCache\\\\local-packages\\\\Python312\\\\site-packages\\\\torch\\\\utils\\\\__init__.py'>"
      ]
     },
     "execution_count": 3,
     "metadata": {},
     "output_type": "execute_result"
    }
   ],
   "source": [
    "# torch.utils.data.DataLoader(\n",
    "#     dataset,\n",
    "#     batch_size=1,\n",
    "#     shuffle=False,\n",
    "#     sampler=None,\n",
    "#     batch_sampler=None,\n",
    "#     num_workers=0,\n",
    "#     collate_fn=None,\n",
    "#     pin_memory=False,\n",
    "#     drop_last=False,\n",
    "#     timeout=0,\n",
    "#     worker_init_fn=None,\n",
    "#     multiprocessing_context=None\n",
    "# )"
   ]
  },
  {
   "cell_type": "markdown",
   "metadata": {},
   "source": [
    "功能：构建可迭代的数据加载器\n",
    "- `dataset`：Dataset类，决定数据从哪读取及如何读取\n",
    "- `batchsize`：批大小\n",
    "- `num_works`：是否多进程读取数据\n",
    "- `shuffle`：每个epoch是否乱序\n",
    "- `drop_last`：当样本数不能被batchsize整除时，是否舍弃最后一批数据"
   ]
  },
  {
   "cell_type": "markdown",
   "metadata": {},
   "source": [
    "相关概念解释：\n",
    "\n",
    "1. `Epoch`：所有训练样本都已输入到模型中，称为一个`Epoch`\n",
    "2. `Iteration`：一批样本输入到模型中，称为一个`Iteration`\n",
    "3. `Batchsize`：批大小，决定一个`Epoch`有多少个`Iteration`"
   ]
  },
  {
   "cell_type": "markdown",
   "metadata": {},
   "source": [
    "# 2、`Dataset`"
   ]
  },
  {
   "cell_type": "code",
   "execution_count": null,
   "metadata": {},
   "outputs": [],
   "source": [
    "# class Dataset(object):\n",
    "#     def __getitem__(self, index):\n",
    "#         raise NotImplementedError\n",
    "    \n",
    "#     def __add__(self, other):\n",
    "#         return ConcatDataset([self, other])"
   ]
  },
  {
   "cell_type": "markdown",
   "metadata": {},
   "source": [
    "功能：Dataset抽象类，所有自定义的Dataset需要继承它，并且复写\n",
    "\n",
    "- `__getitem__()`：接收一个索引，返回一个样本"
   ]
  }
 ],
 "metadata": {
  "kernelspec": {
   "display_name": "Python 3",
   "language": "python",
   "name": "python3"
  },
  "language_info": {
   "codemirror_mode": {
    "name": "ipython",
    "version": 3
   },
   "file_extension": ".py",
   "mimetype": "text/x-python",
   "name": "python",
   "nbconvert_exporter": "python",
   "pygments_lexer": "ipython3",
   "version": "3.12.9"
  }
 },
 "nbformat": 4,
 "nbformat_minor": 2
}
